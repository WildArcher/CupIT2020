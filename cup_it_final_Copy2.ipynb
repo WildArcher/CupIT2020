{
  "nbformat": 4,
  "nbformat_minor": 0,
  "metadata": {
    "kernelspec": {
      "display_name": "Python 3",
      "language": "python",
      "name": "python3"
    },
    "language_info": {
      "codemirror_mode": {
        "name": "ipython",
        "version": 3
      },
      "file_extension": ".py",
      "mimetype": "text/x-python",
      "name": "python",
      "nbconvert_exporter": "python",
      "pygments_lexer": "ipython3",
      "version": "3.7.4"
    },
    "colab": {
      "name": "cup_it_final-Copy2.ipynb",
      "provenance": [],
      "collapsed_sections": [],
      "include_colab_link": true
    }
  },
  "cells": [
    {
      "cell_type": "markdown",
      "metadata": {
        "id": "view-in-github",
        "colab_type": "text"
      },
      "source": [
        "<a href=\"https://colab.research.google.com/github/WildArcher/CupIT2020/blob/master/cup_it_final_Copy2.ipynb\" target=\"_parent\"><img src=\"https://colab.research.google.com/assets/colab-badge.svg\" alt=\"Open In Colab\"/></a>"
      ]
    },
    {
      "cell_type": "code",
      "metadata": {
        "id": "f46NwG5ERvKE",
        "colab_type": "code",
        "colab": {}
      },
      "source": [
        "import pandas as pd\n",
        "import numpy as np\n",
        "import matplotlib.pyplot as plt\n",
        "%matplotlib inline\n",
        "import seaborn as sns"
      ],
      "execution_count": 0,
      "outputs": []
    },
    {
      "cell_type": "code",
      "metadata": {
        "id": "mapDIx1CRvKT",
        "colab_type": "code",
        "colab": {}
      },
      "source": [
        "data = pd.read_csv('CL_megafon_Cup IT_2020_final_data.csv', sep=';')"
      ],
      "execution_count": 0,
      "outputs": []
    },
    {
      "cell_type": "code",
      "metadata": {
        "id": "nn7jlxAvRvKh",
        "colab_type": "code",
        "colab": {}
      },
      "source": [
        "data['time_start'] = pd.to_datetime(data['time_start'])\n",
        "data['time_end'] = pd.to_datetime(data['time_end'])"
      ],
      "execution_count": 0,
      "outputs": []
    },
    {
      "cell_type": "code",
      "metadata": {
        "id": "mySvThOARvKu",
        "colab_type": "code",
        "outputId": "d6438925-0387-4007-ce99-9def7020260f",
        "colab": {
          "base_uri": "https://localhost:8080/",
          "height": 419
        }
      },
      "source": [
        "data['duration'] = data['time_end'] - data['time_start']\n",
        "data['min']= data['duration'].dt.seconds/60\n",
        "data"
      ],
      "execution_count": 6,
      "outputs": [
        {
          "output_type": "execute_result",
          "data": {
            "text/html": [
              "<div>\n",
              "<style scoped>\n",
              "    .dataframe tbody tr th:only-of-type {\n",
              "        vertical-align: middle;\n",
              "    }\n",
              "\n",
              "    .dataframe tbody tr th {\n",
              "        vertical-align: top;\n",
              "    }\n",
              "\n",
              "    .dataframe thead th {\n",
              "        text-align: right;\n",
              "    }\n",
              "</style>\n",
              "<table border=\"1\" class=\"dataframe\">\n",
              "  <thead>\n",
              "    <tr style=\"text-align: right;\">\n",
              "      <th></th>\n",
              "      <th>time_start</th>\n",
              "      <th>time_end</th>\n",
              "      <th>place_latitude</th>\n",
              "      <th>place_longitude</th>\n",
              "      <th>duration</th>\n",
              "      <th>min</th>\n",
              "    </tr>\n",
              "  </thead>\n",
              "  <tbody>\n",
              "    <tr>\n",
              "      <th>0</th>\n",
              "      <td>2019-08-24 14:23:56</td>\n",
              "      <td>2019-08-24 18:54:47</td>\n",
              "      <td>28.102908</td>\n",
              "      <td>113.617867</td>\n",
              "      <td>04:30:51</td>\n",
              "      <td>270.850000</td>\n",
              "    </tr>\n",
              "    <tr>\n",
              "      <th>1</th>\n",
              "      <td>2018-06-19 08:56:22</td>\n",
              "      <td>2018-06-19 12:15:26</td>\n",
              "      <td>28.102908</td>\n",
              "      <td>113.617867</td>\n",
              "      <td>03:19:04</td>\n",
              "      <td>199.066667</td>\n",
              "    </tr>\n",
              "    <tr>\n",
              "      <th>2</th>\n",
              "      <td>2018-08-29 14:00:32</td>\n",
              "      <td>2018-08-29 14:37:51</td>\n",
              "      <td>28.102908</td>\n",
              "      <td>113.617867</td>\n",
              "      <td>00:37:19</td>\n",
              "      <td>37.316667</td>\n",
              "    </tr>\n",
              "    <tr>\n",
              "      <th>3</th>\n",
              "      <td>2019-12-10 16:01:26</td>\n",
              "      <td>2019-12-10 16:35:22</td>\n",
              "      <td>28.102908</td>\n",
              "      <td>113.617867</td>\n",
              "      <td>00:33:56</td>\n",
              "      <td>33.933333</td>\n",
              "    </tr>\n",
              "    <tr>\n",
              "      <th>4</th>\n",
              "      <td>2019-12-10 13:39:42</td>\n",
              "      <td>2019-12-10 17:58:22</td>\n",
              "      <td>28.999495</td>\n",
              "      <td>115.167583</td>\n",
              "      <td>04:18:40</td>\n",
              "      <td>258.666667</td>\n",
              "    </tr>\n",
              "    <tr>\n",
              "      <th>...</th>\n",
              "      <td>...</td>\n",
              "      <td>...</td>\n",
              "      <td>...</td>\n",
              "      <td>...</td>\n",
              "      <td>...</td>\n",
              "      <td>...</td>\n",
              "    </tr>\n",
              "    <tr>\n",
              "      <th>78218</th>\n",
              "      <td>2018-06-25 11:25:04</td>\n",
              "      <td>2018-06-25 14:39:32</td>\n",
              "      <td>28.945221</td>\n",
              "      <td>114.357402</td>\n",
              "      <td>03:14:28</td>\n",
              "      <td>194.466667</td>\n",
              "    </tr>\n",
              "    <tr>\n",
              "      <th>78219</th>\n",
              "      <td>2018-04-06 10:07:13</td>\n",
              "      <td>2018-04-06 16:34:40</td>\n",
              "      <td>28.619318</td>\n",
              "      <td>114.397573</td>\n",
              "      <td>06:27:27</td>\n",
              "      <td>387.450000</td>\n",
              "    </tr>\n",
              "    <tr>\n",
              "      <th>78220</th>\n",
              "      <td>2018-07-13 22:59:34</td>\n",
              "      <td>2018-07-14 00:05:50</td>\n",
              "      <td>28.619318</td>\n",
              "      <td>114.397573</td>\n",
              "      <td>01:06:16</td>\n",
              "      <td>66.266667</td>\n",
              "    </tr>\n",
              "    <tr>\n",
              "      <th>78221</th>\n",
              "      <td>2018-11-06 00:05:57</td>\n",
              "      <td>2018-11-06 08:50:10</td>\n",
              "      <td>28.619318</td>\n",
              "      <td>114.397573</td>\n",
              "      <td>08:44:13</td>\n",
              "      <td>524.216667</td>\n",
              "    </tr>\n",
              "    <tr>\n",
              "      <th>78222</th>\n",
              "      <td>2018-10-15 02:24:15</td>\n",
              "      <td>2018-10-15 18:03:48</td>\n",
              "      <td>28.619318</td>\n",
              "      <td>114.397573</td>\n",
              "      <td>15:39:33</td>\n",
              "      <td>939.550000</td>\n",
              "    </tr>\n",
              "  </tbody>\n",
              "</table>\n",
              "<p>78223 rows × 6 columns</p>\n",
              "</div>"
            ],
            "text/plain": [
              "               time_start            time_end  ...  duration         min\n",
              "0     2019-08-24 14:23:56 2019-08-24 18:54:47  ...  04:30:51  270.850000\n",
              "1     2018-06-19 08:56:22 2018-06-19 12:15:26  ...  03:19:04  199.066667\n",
              "2     2018-08-29 14:00:32 2018-08-29 14:37:51  ...  00:37:19   37.316667\n",
              "3     2019-12-10 16:01:26 2019-12-10 16:35:22  ...  00:33:56   33.933333\n",
              "4     2019-12-10 13:39:42 2019-12-10 17:58:22  ...  04:18:40  258.666667\n",
              "...                   ...                 ...  ...       ...         ...\n",
              "78218 2018-06-25 11:25:04 2018-06-25 14:39:32  ...  03:14:28  194.466667\n",
              "78219 2018-04-06 10:07:13 2018-04-06 16:34:40  ...  06:27:27  387.450000\n",
              "78220 2018-07-13 22:59:34 2018-07-14 00:05:50  ...  01:06:16   66.266667\n",
              "78221 2018-11-06 00:05:57 2018-11-06 08:50:10  ...  08:44:13  524.216667\n",
              "78222 2018-10-15 02:24:15 2018-10-15 18:03:48  ...  15:39:33  939.550000\n",
              "\n",
              "[78223 rows x 6 columns]"
            ]
          },
          "metadata": {
            "tags": []
          },
          "execution_count": 6
        }
      ]
    },
    {
      "cell_type": "code",
      "metadata": {
        "id": "DnaJ5kLORvK6",
        "colab_type": "code",
        "outputId": "586f5cc8-39fd-4c74-fd87-1b7934d37066",
        "colab": {
          "base_uri": "https://localhost:8080/",
          "height": 204
        }
      },
      "source": [
        "data.info()"
      ],
      "execution_count": 7,
      "outputs": [
        {
          "output_type": "stream",
          "text": [
            "<class 'pandas.core.frame.DataFrame'>\n",
            "RangeIndex: 78223 entries, 0 to 78222\n",
            "Data columns (total 6 columns):\n",
            "time_start         78223 non-null datetime64[ns]\n",
            "time_end           78223 non-null datetime64[ns]\n",
            "place_latitude     78223 non-null float64\n",
            "place_longitude    78223 non-null float64\n",
            "duration           78223 non-null timedelta64[ns]\n",
            "min                78223 non-null float64\n",
            "dtypes: datetime64[ns](2), float64(3), timedelta64[ns](1)\n",
            "memory usage: 3.6 MB\n"
          ],
          "name": "stdout"
        }
      ]
    },
    {
      "cell_type": "code",
      "metadata": {
        "id": "U6ptYTSYRva-",
        "colab_type": "code",
        "outputId": "65c11541-78bc-4553-f841-0d6dfca657e1",
        "colab": {
          "base_uri": "https://localhost:8080/",
          "height": 34
        }
      },
      "source": [
        "index_fast_repare_in_one_minute = []\n",
        "for i in range(data.shape[0]):\n",
        "    if data['duration'][i] == 0:\n",
        "        index_fast_repare_in_one_minute.append(i)\n",
        "        \n",
        "print(len(index_fast_repare_in_one_minute), 'обрывов закончились в ту же секунду')"
      ],
      "execution_count": 8,
      "outputs": [
        {
          "output_type": "stream",
          "text": [
            "0 обрывов закончились в ту же секунду\n"
          ],
          "name": "stdout"
        }
      ]
    },
    {
      "cell_type": "code",
      "metadata": {
        "id": "gziOvCORRvjF",
        "colab_type": "code",
        "outputId": "0973716a-fcab-4f3f-f8a1-ca2b96d9cb87",
        "colab": {
          "base_uri": "https://localhost:8080/",
          "height": 34
        }
      },
      "source": [
        "from datetime import datetime\n",
        "\n",
        "index_fast_repare_in_one_minute = []\n",
        "for i in range(data.shape[0]):\n",
        "    if data['min'][i] <=2:\n",
        "        index_fast_repare_in_one_minute.append(i)\n",
        "        \n",
        "print(len(index_fast_repare_in_one_minute), 'обрывов закончились меньше чем за 2 минуты')"
      ],
      "execution_count": 9,
      "outputs": [
        {
          "output_type": "stream",
          "text": [
            "100 обрывов закончились меньше чем за 2 минуты\n"
          ],
          "name": "stdout"
        }
      ]
    },
    {
      "cell_type": "code",
      "metadata": {
        "id": "YmCCU-P_Rvjf",
        "colab_type": "code",
        "outputId": "8f0da2ba-e344-4f9f-dbc1-83cbdb06b561",
        "colab": {
          "base_uri": "https://localhost:8080/",
          "height": 34
        }
      },
      "source": [
        "index_fast_repare_in_one_minute = []\n",
        "for i in range(data.shape[0]):\n",
        "    if data['min'][i] <=60:\n",
        "        index_fast_repare_in_one_minute.append(i)\n",
        "        \n",
        "print(len(index_fast_repare_in_one_minute), 'обрывов закончились меньше чем за час')"
      ],
      "execution_count": 10,
      "outputs": [
        {
          "output_type": "stream",
          "text": [
            "19186 обрывов закончились меньше чем за час\n"
          ],
          "name": "stdout"
        }
      ]
    },
    {
      "cell_type": "code",
      "metadata": {
        "id": "wPguubYVRvkj",
        "colab_type": "code",
        "colab": {}
      },
      "source": [
        "data_target = data['min'].copy()"
      ],
      "execution_count": 0,
      "outputs": []
    },
    {
      "cell_type": "code",
      "metadata": {
        "id": "Tg8hSYyPRvq2",
        "colab_type": "code",
        "colab": {}
      },
      "source": [
        "low, up = np.percentile(data['min'].values, [1 , 95]) \n",
        "\n",
        "bad_index = list(data[data['min'].values > up].index)"
      ],
      "execution_count": 0,
      "outputs": []
    },
    {
      "cell_type": "code",
      "metadata": {
        "id": "dNT5zwDORvvt",
        "colab_type": "code",
        "outputId": "70b52f3f-98e2-4df0-8146-7a94fde2e5ec",
        "colab": {
          "base_uri": "https://localhost:8080/",
          "height": 282
        }
      },
      "source": [
        "data['min'].drop(index=bad_index).hist(bins=200)"
      ],
      "execution_count": 13,
      "outputs": [
        {
          "output_type": "execute_result",
          "data": {
            "text/plain": [
              "<matplotlib.axes._subplots.AxesSubplot at 0x7f7ba1f17518>"
            ]
          },
          "metadata": {
            "tags": []
          },
          "execution_count": 13
        },
        {
          "output_type": "display_data",
          "data": {
            "image/png": "[encoded data removed]",
            "text/plain": [
              "<Figure size 432x288 with 1 Axes>"
            ]
          },
          "metadata": {
            "tags": []
          }
        }
      ]
    },
    {
      "cell_type": "code",
      "metadata": {
        "id": "OSUE4q6xRvx2",
        "colab_type": "code",
        "colab": {}
      },
      "source": [
        "data.drop(index=bad_index, inplace=True)\n",
        "data.index = range(data.shape[0])"
      ],
      "execution_count": 0,
      "outputs": []
    },
    {
      "cell_type": "code",
      "metadata": {
        "id": "xYHQrnnjJIx0",
        "colab_type": "code",
        "colab": {}
      },
      "source": [
        "count =0 \n",
        "for i in range(data.shape[0]):  \n",
        "  if data.time_start[i].month == 2:\n",
        "    count+=1"
      ],
      "execution_count": 0,
      "outputs": []
    },
    {
      "cell_type": "markdown",
      "metadata": {
        "id": "z27mun37Rv0n",
        "colab_type": "text"
      },
      "source": [
        "## MeanShift"
      ]
    },
    {
      "cell_type": "code",
      "metadata": {
        "id": "QKAH5IflRv1A",
        "colab_type": "code",
        "colab": {}
      },
      "source": [
        "from sklearn.cluster import MeanShift"
      ],
      "execution_count": 0,
      "outputs": []
    },
    {
      "cell_type": "code",
      "metadata": {
        "id": "FulkRLyTRv17",
        "colab_type": "code",
        "colab": {}
      },
      "source": [
        "new_data = data[['place_latitude', 'place_longitude']].copy()"
      ],
      "execution_count": 0,
      "outputs": []
    },
    {
      "cell_type": "code",
      "metadata": {
        "id": "P1mfDpJyRv8w",
        "colab_type": "code",
        "outputId": "bb3c1978-8a7f-4709-9f33-96b28d0c4747",
        "colab": {
          "base_uri": "https://localhost:8080/",
          "height": 51
        }
      },
      "source": [
        "%%time\n",
        "\n",
        "clustering = MeanShift(bandwidth = 0.1, n_jobs=-1).fit(new_data)"
      ],
      "execution_count": 19,
      "outputs": [
        {
          "output_type": "stream",
          "text": [
            "CPU times: user 18.1 s, sys: 1.89 s, total: 19.9 s\n",
            "Wall time: 7min 41s\n"
          ],
          "name": "stdout"
        }
      ]
    },
    {
      "cell_type": "code",
      "metadata": {
        "id": "DYP9-sCvRv88",
        "colab_type": "code",
        "outputId": "9d341d3a-7f7c-4466-e996-ada30d3b46bc",
        "colab": {
          "base_uri": "https://localhost:8080/",
          "height": 34
        }
      },
      "source": [
        "len(np.unique(clustering.predict(new_data)))"
      ],
      "execution_count": 20,
      "outputs": [
        {
          "output_type": "execute_result",
          "data": {
            "text/plain": [
              "518"
            ]
          },
          "metadata": {
            "tags": []
          },
          "execution_count": 20
        }
      ]
    },
    {
      "cell_type": "code",
      "metadata": {
        "id": "n9FRJR5PRv9T",
        "colab_type": "code",
        "colab": {}
      },
      "source": [
        "new_data['class'] = clustering.predict(new_data)"
      ],
      "execution_count": 0,
      "outputs": []
    },
    {
      "cell_type": "code",
      "metadata": {
        "id": "-CqYkwk4Rv_a",
        "colab_type": "code",
        "colab": {}
      },
      "source": [
        "#fig, axes = plt.subplots(figsize=(15, 15))\n",
        "#plt.scatter(new_data['place_latitude'].values.reshape(-1,1), \n",
        "#            new_data['place_longitude'].values.reshape(-1,1), s=10)"
      ],
      "execution_count": 0,
      "outputs": []
    },
    {
      "cell_type": "code",
      "metadata": {
        "id": "6zYZ9uY0RwAY",
        "colab_type": "code",
        "colab": {}
      },
      "source": [
        "#fig, axes = plt.subplots(figsize=(15, 15))\n",
        "#plt.scatter(new_data['place_latitude'][new_data['class'] == 58].values.reshape(-1,1), \n",
        "#            new_data['place_longitude'][new_data['class'] == 58].values.reshape(-1,1), s=10)"
      ],
      "execution_count": 0,
      "outputs": []
    },
    {
      "cell_type": "code",
      "metadata": {
        "id": "kN479AtiRwDH",
        "colab_type": "code",
        "colab": {}
      },
      "source": [
        "data['class'] = new_data['class']"
      ],
      "execution_count": 0,
      "outputs": []
    },
    {
      "cell_type": "code",
      "metadata": {
        "id": "dFirq36HRwD9",
        "colab_type": "code",
        "outputId": "04e07a04-53f9-4cbb-95a8-dfc87e5ca6ec",
        "colab": {
          "base_uri": "https://localhost:8080/",
          "height": 419
        }
      },
      "source": [
        "data"
      ],
      "execution_count": 26,
      "outputs": [
        {
          "output_type": "execute_result",
          "data": {
            "text/html": [
              "<div>\n",
              "<style scoped>\n",
              "    .dataframe tbody tr th:only-of-type {\n",
              "        vertical-align: middle;\n",
              "    }\n",
              "\n",
              "    .dataframe tbody tr th {\n",
              "        vertical-align: top;\n",
              "    }\n",
              "\n",
              "    .dataframe thead th {\n",
              "        text-align: right;\n",
              "    }\n",
              "</style>\n",
              "<table border=\"1\" class=\"dataframe\">\n",
              "  <thead>\n",
              "    <tr style=\"text-align: right;\">\n",
              "      <th></th>\n",
              "      <th>time_start</th>\n",
              "      <th>time_end</th>\n",
              "      <th>place_latitude</th>\n",
              "      <th>place_longitude</th>\n",
              "      <th>duration</th>\n",
              "      <th>min</th>\n",
              "      <th>class</th>\n",
              "    </tr>\n",
              "  </thead>\n",
              "  <tbody>\n",
              "    <tr>\n",
              "      <th>0</th>\n",
              "      <td>2019-08-24 14:23:56</td>\n",
              "      <td>2019-08-24 18:54:47</td>\n",
              "      <td>28.102908</td>\n",
              "      <td>113.617867</td>\n",
              "      <td>04:30:51</td>\n",
              "      <td>270.850000</td>\n",
              "      <td>58</td>\n",
              "    </tr>\n",
              "    <tr>\n",
              "      <th>1</th>\n",
              "      <td>2018-06-19 08:56:22</td>\n",
              "      <td>2018-06-19 12:15:26</td>\n",
              "      <td>28.102908</td>\n",
              "      <td>113.617867</td>\n",
              "      <td>03:19:04</td>\n",
              "      <td>199.066667</td>\n",
              "      <td>58</td>\n",
              "    </tr>\n",
              "    <tr>\n",
              "      <th>2</th>\n",
              "      <td>2018-08-29 14:00:32</td>\n",
              "      <td>2018-08-29 14:37:51</td>\n",
              "      <td>28.102908</td>\n",
              "      <td>113.617867</td>\n",
              "      <td>00:37:19</td>\n",
              "      <td>37.316667</td>\n",
              "      <td>58</td>\n",
              "    </tr>\n",
              "    <tr>\n",
              "      <th>3</th>\n",
              "      <td>2019-12-10 16:01:26</td>\n",
              "      <td>2019-12-10 16:35:22</td>\n",
              "      <td>28.102908</td>\n",
              "      <td>113.617867</td>\n",
              "      <td>00:33:56</td>\n",
              "      <td>33.933333</td>\n",
              "      <td>58</td>\n",
              "    </tr>\n",
              "    <tr>\n",
              "      <th>4</th>\n",
              "      <td>2019-12-10 13:39:42</td>\n",
              "      <td>2019-12-10 17:58:22</td>\n",
              "      <td>28.999495</td>\n",
              "      <td>115.167583</td>\n",
              "      <td>04:18:40</td>\n",
              "      <td>258.666667</td>\n",
              "      <td>42</td>\n",
              "    </tr>\n",
              "    <tr>\n",
              "      <th>...</th>\n",
              "      <td>...</td>\n",
              "      <td>...</td>\n",
              "      <td>...</td>\n",
              "      <td>...</td>\n",
              "      <td>...</td>\n",
              "      <td>...</td>\n",
              "      <td>...</td>\n",
              "    </tr>\n",
              "    <tr>\n",
              "      <th>74306</th>\n",
              "      <td>2018-09-28 10:17:20</td>\n",
              "      <td>2018-09-28 14:33:46</td>\n",
              "      <td>28.945221</td>\n",
              "      <td>114.357402</td>\n",
              "      <td>04:16:26</td>\n",
              "      <td>256.433333</td>\n",
              "      <td>14</td>\n",
              "    </tr>\n",
              "    <tr>\n",
              "      <th>74307</th>\n",
              "      <td>2018-06-25 11:25:04</td>\n",
              "      <td>2018-06-25 14:39:32</td>\n",
              "      <td>28.945221</td>\n",
              "      <td>114.357402</td>\n",
              "      <td>03:14:28</td>\n",
              "      <td>194.466667</td>\n",
              "      <td>14</td>\n",
              "    </tr>\n",
              "    <tr>\n",
              "      <th>74308</th>\n",
              "      <td>2018-04-06 10:07:13</td>\n",
              "      <td>2018-04-06 16:34:40</td>\n",
              "      <td>28.619318</td>\n",
              "      <td>114.397573</td>\n",
              "      <td>06:27:27</td>\n",
              "      <td>387.450000</td>\n",
              "      <td>2</td>\n",
              "    </tr>\n",
              "    <tr>\n",
              "      <th>74309</th>\n",
              "      <td>2018-07-13 22:59:34</td>\n",
              "      <td>2018-07-14 00:05:50</td>\n",
              "      <td>28.619318</td>\n",
              "      <td>114.397573</td>\n",
              "      <td>01:06:16</td>\n",
              "      <td>66.266667</td>\n",
              "      <td>2</td>\n",
              "    </tr>\n",
              "    <tr>\n",
              "      <th>74310</th>\n",
              "      <td>2018-11-06 00:05:57</td>\n",
              "      <td>2018-11-06 08:50:10</td>\n",
              "      <td>28.619318</td>\n",
              "      <td>114.397573</td>\n",
              "      <td>08:44:13</td>\n",
              "      <td>524.216667</td>\n",
              "      <td>2</td>\n",
              "    </tr>\n",
              "  </tbody>\n",
              "</table>\n",
              "<p>74311 rows × 7 columns</p>\n",
              "</div>"
            ],
            "text/plain": [
              "               time_start            time_end  ...         min  class\n",
              "0     2019-08-24 14:23:56 2019-08-24 18:54:47  ...  270.850000     58\n",
              "1     2018-06-19 08:56:22 2018-06-19 12:15:26  ...  199.066667     58\n",
              "2     2018-08-29 14:00:32 2018-08-29 14:37:51  ...   37.316667     58\n",
              "3     2019-12-10 16:01:26 2019-12-10 16:35:22  ...   33.933333     58\n",
              "4     2019-12-10 13:39:42 2019-12-10 17:58:22  ...  258.666667     42\n",
              "...                   ...                 ...  ...         ...    ...\n",
              "74306 2018-09-28 10:17:20 2018-09-28 14:33:46  ...  256.433333     14\n",
              "74307 2018-06-25 11:25:04 2018-06-25 14:39:32  ...  194.466667     14\n",
              "74308 2018-04-06 10:07:13 2018-04-06 16:34:40  ...  387.450000      2\n",
              "74309 2018-07-13 22:59:34 2018-07-14 00:05:50  ...   66.266667      2\n",
              "74310 2018-11-06 00:05:57 2018-11-06 08:50:10  ...  524.216667      2\n",
              "\n",
              "[74311 rows x 7 columns]"
            ]
          },
          "metadata": {
            "tags": []
          },
          "execution_count": 26
        }
      ]
    },
    {
      "cell_type": "code",
      "metadata": {
        "id": "Xiot4zEqYlv2",
        "colab_type": "code",
        "colab": {}
      },
      "source": [
        "data_for_time_series = data[['time_start', 'min']][data['class'] == 58].copy()"
      ],
      "execution_count": 0,
      "outputs": []
    },
    {
      "cell_type": "code",
      "metadata": {
        "id": "op-VaZryZXV1",
        "colab_type": "code",
        "outputId": "b902616d-c72a-4134-c345-edf114680b1e",
        "colab": {
          "base_uri": "https://localhost:8080/",
          "height": 419
        }
      },
      "source": [
        "data_for_time_series "
      ],
      "execution_count": 164,
      "outputs": [
        {
          "output_type": "execute_result",
          "data": {
            "text/html": [
              "<div>\n",
              "<style scoped>\n",
              "    .dataframe tbody tr th:only-of-type {\n",
              "        vertical-align: middle;\n",
              "    }\n",
              "\n",
              "    .dataframe tbody tr th {\n",
              "        vertical-align: top;\n",
              "    }\n",
              "\n",
              "    .dataframe thead th {\n",
              "        text-align: right;\n",
              "    }\n",
              "</style>\n",
              "<table border=\"1\" class=\"dataframe\">\n",
              "  <thead>\n",
              "    <tr style=\"text-align: right;\">\n",
              "      <th></th>\n",
              "      <th>time_start</th>\n",
              "      <th>min</th>\n",
              "    </tr>\n",
              "  </thead>\n",
              "  <tbody>\n",
              "    <tr>\n",
              "      <th>0</th>\n",
              "      <td>2019-08-24 14:23:56</td>\n",
              "      <td>270.850000</td>\n",
              "    </tr>\n",
              "    <tr>\n",
              "      <th>1</th>\n",
              "      <td>2018-06-19 08:56:22</td>\n",
              "      <td>199.066667</td>\n",
              "    </tr>\n",
              "    <tr>\n",
              "      <th>2</th>\n",
              "      <td>2018-08-29 14:00:32</td>\n",
              "      <td>37.316667</td>\n",
              "    </tr>\n",
              "    <tr>\n",
              "      <th>3</th>\n",
              "      <td>2019-12-10 16:01:26</td>\n",
              "      <td>33.933333</td>\n",
              "    </tr>\n",
              "    <tr>\n",
              "      <th>1110</th>\n",
              "      <td>2018-08-07 20:36:49</td>\n",
              "      <td>72.900000</td>\n",
              "    </tr>\n",
              "    <tr>\n",
              "      <th>...</th>\n",
              "      <td>...</td>\n",
              "      <td>...</td>\n",
              "    </tr>\n",
              "    <tr>\n",
              "      <th>72561</th>\n",
              "      <td>2019-12-25 11:38:35</td>\n",
              "      <td>175.283333</td>\n",
              "    </tr>\n",
              "    <tr>\n",
              "      <th>72562</th>\n",
              "      <td>2019-12-20 11:04:25</td>\n",
              "      <td>409.916667</td>\n",
              "    </tr>\n",
              "    <tr>\n",
              "      <th>72563</th>\n",
              "      <td>2019-12-10 16:26:18</td>\n",
              "      <td>84.616667</td>\n",
              "    </tr>\n",
              "    <tr>\n",
              "      <th>72866</th>\n",
              "      <td>2019-01-20 17:59:36</td>\n",
              "      <td>155.833333</td>\n",
              "    </tr>\n",
              "    <tr>\n",
              "      <th>72867</th>\n",
              "      <td>2019-01-22 13:42:08</td>\n",
              "      <td>24.283333</td>\n",
              "    </tr>\n",
              "  </tbody>\n",
              "</table>\n",
              "<p>294 rows × 2 columns</p>\n",
              "</div>"
            ],
            "text/plain": [
              "               time_start         min\n",
              "0     2019-08-24 14:23:56  270.850000\n",
              "1     2018-06-19 08:56:22  199.066667\n",
              "2     2018-08-29 14:00:32   37.316667\n",
              "3     2019-12-10 16:01:26   33.933333\n",
              "1110  2018-08-07 20:36:49   72.900000\n",
              "...                   ...         ...\n",
              "72561 2019-12-25 11:38:35  175.283333\n",
              "72562 2019-12-20 11:04:25  409.916667\n",
              "72563 2019-12-10 16:26:18   84.616667\n",
              "72866 2019-01-20 17:59:36  155.833333\n",
              "72867 2019-01-22 13:42:08   24.283333\n",
              "\n",
              "[294 rows x 2 columns]"
            ]
          },
          "metadata": {
            "tags": []
          },
          "execution_count": 164
        }
      ]
    },
    {
      "cell_type": "markdown",
      "metadata": {
        "id": "dusVJQW_GZfv",
        "colab_type": "text"
      },
      "source": [
        "## Time series для одного кластера\n"
      ]
    },
    {
      "cell_type": "code",
      "metadata": {
        "id": "K_Nn4GpHcIED",
        "colab_type": "code",
        "colab": {}
      },
      "source": [
        "import sys\n",
        "import warnings\n",
        "warnings.filterwarnings('ignore')\n",
        "from tqdm import tqdm\n",
        "from sklearn.metrics import mean_absolute_error\n",
        "\n",
        "from sklearn.linear_model import LinearRegression\n",
        "from sklearn.linear_model import HuberRegressor"
      ],
      "execution_count": 0,
      "outputs": []
    },
    {
      "cell_type": "code",
      "metadata": {
        "id": "vtgj9wh3oFvR",
        "colab_type": "code",
        "colab": {}
      },
      "source": [
        "def code_mean(data, cat_feature, real_feature):\n",
        "    return dict(data.groupby(cat_feature)[real_feature].mean())"
      ],
      "execution_count": 0,
      "outputs": []
    },
    {
      "cell_type": "code",
      "metadata": {
        "id": "lFkg_zG2mtbB",
        "colab_type": "code",
        "outputId": "31d401db-4034-46ec-d876-a66b3591f05e",
        "colab": {
          "base_uri": "https://localhost:8080/",
          "height": 450
        }
      },
      "source": [
        "data_for_time_series.index = data_for_time_series['time_start']\n",
        "data_for_time_series[\"year\"] = data_for_time_series.index.year\n",
        "data_for_time_series[\"month\"] = data_for_time_series.index.month\n",
        "data_for_time_series[\"weekday\"] = data_for_time_series.index.weekday\n",
        "data_for_time_series[\"hour\"] = data_for_time_series.index.hour\n",
        "data_for_time_series[\"minute\"] = data_for_time_series.index.minute\n",
        "#data_for_time_series['is_weekend'] = data_for_time_series.weekday.isin([5,6])*1\n",
        "data_for_time_series.drop(labels=['time_start'], inplace=True, axis=1)\n",
        "data_for_time_series = data_for_time_series.sort_values(by='time_start')\n",
        "data_for_time_series"
      ],
      "execution_count": 165,
      "outputs": [
        {
          "output_type": "execute_result",
          "data": {
            "text/html": [
              "<div>\n",
              "<style scoped>\n",
              "    .dataframe tbody tr th:only-of-type {\n",
              "        vertical-align: middle;\n",
              "    }\n",
              "\n",
              "    .dataframe tbody tr th {\n",
              "        vertical-align: top;\n",
              "    }\n",
              "\n",
              "    .dataframe thead th {\n",
              "        text-align: right;\n",
              "    }\n",
              "</style>\n",
              "<table border=\"1\" class=\"dataframe\">\n",
              "  <thead>\n",
              "    <tr style=\"text-align: right;\">\n",
              "      <th></th>\n",
              "      <th>min</th>\n",
              "      <th>year</th>\n",
              "      <th>month</th>\n",
              "      <th>weekday</th>\n",
              "      <th>hour</th>\n",
              "      <th>minute</th>\n",
              "    </tr>\n",
              "    <tr>\n",
              "      <th>time_start</th>\n",
              "      <th></th>\n",
              "      <th></th>\n",
              "      <th></th>\n",
              "      <th></th>\n",
              "      <th></th>\n",
              "      <th></th>\n",
              "    </tr>\n",
              "  </thead>\n",
              "  <tbody>\n",
              "    <tr>\n",
              "      <th>2018-01-01 04:35:56</th>\n",
              "      <td>472.383333</td>\n",
              "      <td>2018</td>\n",
              "      <td>1</td>\n",
              "      <td>0</td>\n",
              "      <td>4</td>\n",
              "      <td>35</td>\n",
              "    </tr>\n",
              "    <tr>\n",
              "      <th>2018-01-01 19:30:47</th>\n",
              "      <td>31.516667</td>\n",
              "      <td>2018</td>\n",
              "      <td>1</td>\n",
              "      <td>0</td>\n",
              "      <td>19</td>\n",
              "      <td>30</td>\n",
              "    </tr>\n",
              "    <tr>\n",
              "      <th>2018-01-02 16:11:12</th>\n",
              "      <td>14.116667</td>\n",
              "      <td>2018</td>\n",
              "      <td>1</td>\n",
              "      <td>1</td>\n",
              "      <td>16</td>\n",
              "      <td>11</td>\n",
              "    </tr>\n",
              "    <tr>\n",
              "      <th>2018-01-23 14:55:41</th>\n",
              "      <td>34.816667</td>\n",
              "      <td>2018</td>\n",
              "      <td>1</td>\n",
              "      <td>1</td>\n",
              "      <td>14</td>\n",
              "      <td>55</td>\n",
              "    </tr>\n",
              "    <tr>\n",
              "      <th>2018-01-26 16:01:02</th>\n",
              "      <td>52.516667</td>\n",
              "      <td>2018</td>\n",
              "      <td>1</td>\n",
              "      <td>4</td>\n",
              "      <td>16</td>\n",
              "      <td>1</td>\n",
              "    </tr>\n",
              "    <tr>\n",
              "      <th>...</th>\n",
              "      <td>...</td>\n",
              "      <td>...</td>\n",
              "      <td>...</td>\n",
              "      <td>...</td>\n",
              "      <td>...</td>\n",
              "      <td>...</td>\n",
              "    </tr>\n",
              "    <tr>\n",
              "      <th>2020-01-20 17:17:27</th>\n",
              "      <td>383.266667</td>\n",
              "      <td>2020</td>\n",
              "      <td>1</td>\n",
              "      <td>0</td>\n",
              "      <td>17</td>\n",
              "      <td>17</td>\n",
              "    </tr>\n",
              "    <tr>\n",
              "      <th>2020-01-27 10:16:26</th>\n",
              "      <td>389.983333</td>\n",
              "      <td>2020</td>\n",
              "      <td>1</td>\n",
              "      <td>0</td>\n",
              "      <td>10</td>\n",
              "      <td>16</td>\n",
              "    </tr>\n",
              "    <tr>\n",
              "      <th>2020-01-28 21:44:34</th>\n",
              "      <td>29.966667</td>\n",
              "      <td>2020</td>\n",
              "      <td>1</td>\n",
              "      <td>1</td>\n",
              "      <td>21</td>\n",
              "      <td>44</td>\n",
              "    </tr>\n",
              "    <tr>\n",
              "      <th>2020-01-30 00:18:22</th>\n",
              "      <td>253.133333</td>\n",
              "      <td>2020</td>\n",
              "      <td>1</td>\n",
              "      <td>3</td>\n",
              "      <td>0</td>\n",
              "      <td>18</td>\n",
              "    </tr>\n",
              "    <tr>\n",
              "      <th>2020-01-31 20:31:00</th>\n",
              "      <td>189.783333</td>\n",
              "      <td>2020</td>\n",
              "      <td>1</td>\n",
              "      <td>4</td>\n",
              "      <td>20</td>\n",
              "      <td>31</td>\n",
              "    </tr>\n",
              "  </tbody>\n",
              "</table>\n",
              "<p>294 rows × 6 columns</p>\n",
              "</div>"
            ],
            "text/plain": [
              "                            min  year  month  weekday  hour  minute\n",
              "time_start                                                         \n",
              "2018-01-01 04:35:56  472.383333  2018      1        0     4      35\n",
              "2018-01-01 19:30:47   31.516667  2018      1        0    19      30\n",
              "2018-01-02 16:11:12   14.116667  2018      1        1    16      11\n",
              "2018-01-23 14:55:41   34.816667  2018      1        1    14      55\n",
              "2018-01-26 16:01:02   52.516667  2018      1        4    16       1\n",
              "...                         ...   ...    ...      ...   ...     ...\n",
              "2020-01-20 17:17:27  383.266667  2020      1        0    17      17\n",
              "2020-01-27 10:16:26  389.983333  2020      1        0    10      16\n",
              "2020-01-28 21:44:34   29.966667  2020      1        1    21      44\n",
              "2020-01-30 00:18:22  253.133333  2020      1        3     0      18\n",
              "2020-01-31 20:31:00  189.783333  2020      1        4    20      31\n",
              "\n",
              "[294 rows x 6 columns]"
            ]
          },
          "metadata": {
            "tags": []
          },
          "execution_count": 165
        }
      ]
    },
    {
      "cell_type": "code",
      "metadata": {
        "id": "0xcIu3iBTJ_I",
        "colab_type": "code",
        "colab": {}
      },
      "source": [
        "from mlxtend.feature_selection import SequentialFeatureSelector as SFS\n",
        "from sklearn.pipeline import Pipeline"
      ],
      "execution_count": 0,
      "outputs": []
    },
    {
      "cell_type": "code",
      "metadata": {
        "id": "1HWHNBNQ2h05",
        "colab_type": "code",
        "colab": {}
      },
      "source": [
        "def mape(y_true, y_pred):\n",
        "  return 100*np.sum(np.abs((y_true - y_pred) / y_true))/len(y_true)"
      ],
      "execution_count": 0,
      "outputs": []
    },
    {
      "cell_type": "code",
      "metadata": {
        "id": "5KIuT5KzcH77",
        "colab_type": "code",
        "colab": {}
      },
      "source": [
        "def prepareData(data, lag_start, lag_end, test_size):\n",
        "\n",
        "    data = pd.DataFrame(data.copy())\n",
        "\n",
        "    for i in range(lag_start, lag_end):\n",
        "        data[\"lag_{}\".format(i)] = data['min'].shift(i)\n",
        "\n",
        "    test_index = int(len(data)*(1-test_size))\n",
        "\n",
        "    #data['year_average'] = list(map(code_mean(data[:test_index], 'year', 'min').get, data.year))\n",
        "    data['month_average'] = list(map(code_mean(data[:test_index], 'month', 'min').get, data.month))\n",
        "    data['weekday_average'] = list(map(code_mean(data[:test_index], 'weekday', 'min').get, data.weekday))\n",
        "    data[\"hour_average\"] = list(map(code_mean(data[:test_index], 'hour', 'min').get, data.hour))\n",
        "    data[\"minute_average\"] = list(map(code_mean(data[:test_index], 'minute', 'min').get, data.minute))\n",
        "\n",
        "    data.drop(['year', 'month', 'weekday', 'hour', 'minute'], axis=1, inplace=True)\n",
        "    data.dropna(inplace=True)\n",
        "    data = data.reset_index(drop=True)\n",
        "\n",
        "    sfs = SFS(estimator=lr, k_features=7, scoring='neg_mean_absolute_error')\n",
        "    sfs.fit(data.drop(['min'], axis=1), data['min'])\n",
        "\n",
        "    reg_pipe = Pipeline([('sfs', sfs),\n",
        "                      ('LinearReg', lr)])\n",
        "\n",
        "    for i in range(lag_start, lag_end):\n",
        "        data.drop(labels=[\"lag_{}\".format(i)], inplace=True, axis=1)\n",
        "\n",
        "    for i in reg_pipe.named_steps['sfs'].k_feature_idx_:\n",
        "        data[\"lag_{}\".format(i)] = data['min'].shift(i)\n",
        "\n",
        "    data.dropna(inplace=True)\n",
        "    data = data.reset_index(drop=True)\n",
        "\n",
        "    X_train = data.loc[:test_index].drop(['min'], axis=1)\n",
        "    y_train = data.loc[:test_index]['min']\n",
        "    X_test = data.loc[test_index:].drop(['min'], axis=1)\n",
        "    y_test = data.loc[test_index:]['min']\n",
        "\n",
        "    return X_train, X_test, y_train, y_test"
      ],
      "execution_count": 0,
      "outputs": []
    },
    {
      "cell_type": "code",
      "metadata": {
        "id": "aVB09paZp8ZV",
        "colab_type": "code",
        "outputId": "6c5d1790-96ab-4f20-8dcf-2b1049f63288",
        "colab": {
          "base_uri": "https://localhost:8080/",
          "height": 459
        }
      },
      "source": [
        "X_train, X_test, y_train, y_test = prepareData(data_for_time_series, test_size=0.2, lag_start=1, lag_end=20)\n",
        "lr = HuberRegressor()\n",
        "lr.fit(X_train, y_train)\n",
        "prediction = lr.predict(X_test)\n",
        "\n",
        "for i in range(len(prediction)):\n",
        "  if prediction[i] < 15:\n",
        "    prediction[i] = 15\n",
        "\n",
        "plt.figure(figsize=(15, 7))\n",
        "plt.plot(data_for_time_series.index[len(data_for_time_series)-len(y_test):], prediction, 'r', label='prediction')\n",
        "plt.plot(data_for_time_series.index[len(data_for_time_series)-len(y_test):], y_test, label='real')\n",
        "plt.legend(loc=\"best\")\n",
        "plt.title(\"Huber regressor for one cluster\\n MAPE: {} %\".format(mape(y_test, prediction)))\n",
        "plt.grid(True)\n",
        "\n",
        "# Увы, выбросы очень сильно ухудшают метрику, даже если остальные предикты +- норм\n",
        "# Если поставить метрику neg_mean_squared_error В sfs, то выбросы сглаживаются, а другие предсказания становятся хуже"
      ],
      "execution_count": 256,
      "outputs": [
        {
          "output_type": "display_data",
          "data": {
            "image/png": "[encoded data removed]",
            "text/plain": [
              "<Figure size 1080x504 with 1 Axes>"
            ]
          },
          "metadata": {
            "tags": []
          }
        }
      ]
    },
    {
      "cell_type": "code",
      "metadata": {
        "id": "dtbvrowk4HDY",
        "colab_type": "code",
        "colab": {
          "base_uri": "https://localhost:8080/",
          "height": 68
        },
        "outputId": "9e0439ac-eef6-46cb-9f99-a33fc3c13137"
      },
      "source": [
        "y_test"
      ],
      "execution_count": 243,
      "outputs": [
        {
          "output_type": "execute_result",
          "data": {
            "text/plain": [
              "235    253.133333\n",
              "236    189.783333\n",
              "Name: min, dtype: float64"
            ]
          },
          "metadata": {
            "tags": []
          },
          "execution_count": 243
        }
      ]
    },
    {
      "cell_type": "code",
      "metadata": {
        "id": "j7umhdu54IET",
        "colab_type": "code",
        "colab": {
          "base_uri": "https://localhost:8080/",
          "height": 34
        },
        "outputId": "f6b5d4e1-615c-4f0f-b3c1-9bf38e1c2726"
      },
      "source": [
        "prediction"
      ],
      "execution_count": 212,
      "outputs": [
        {
          "output_type": "execute_result",
          "data": {
            "text/plain": [
              "array([147.20065242, 228.0770388 , 282.03947066, 110.78938149])"
            ]
          },
          "metadata": {
            "tags": []
          },
          "execution_count": 212
        }
      ]
    },
    {
      "cell_type": "code",
      "metadata": {
        "id": "5zED7pRV4Osw",
        "colab_type": "code",
        "colab": {
          "base_uri": "https://localhost:8080/",
          "height": 34
        },
        "outputId": "4848b995-5529-4314-b060-d4cae757d5a3"
      },
      "source": [
        "1-mean_absolute_error(y_test, prediction)/y_test.mean()"
      ],
      "execution_count": 185,
      "outputs": [
        {
          "output_type": "execute_result",
          "data": {
            "text/plain": [
              "0.4298881404163355"
            ]
          },
          "metadata": {
            "tags": []
          },
          "execution_count": 185
        }
      ]
    },
    {
      "cell_type": "code",
      "metadata": {
        "id": "ecshjAHb4RWd",
        "colab_type": "code",
        "colab": {}
      },
      "source": [
        "#data_for_time_series = data[['time_start', 'min']][data['class'] == 0].copy()"
      ],
      "execution_count": 0,
      "outputs": []
    },
    {
      "cell_type": "code",
      "metadata": {
        "id": "_q-HglcEiYEN",
        "colab_type": "code",
        "colab": {}
      },
      "source": [
        "#data_for_time_series = data_for_time_series.sort_values(by='time_start')\n",
        "#data_for_time_series"
      ],
      "execution_count": 0,
      "outputs": []
    },
    {
      "cell_type": "code",
      "metadata": {
        "id": "Bo4zl1D54JPE",
        "colab_type": "code",
        "outputId": "07710f3b-76db-4222-ef05-21e3e35850f4",
        "colab": {
          "base_uri": "https://localhost:8080/",
          "height": 428
        }
      },
      "source": [
        "# Этот кусок в доработке\n",
        "\n",
        "lr = LinearRegression()\n",
        "mape = np.zeros(len(np.unique(data['class'])))\n",
        "\n",
        "for i in range(len(np.unique(data['class']))):\n",
        "  data_for_time_series = data[['time_start', 'min']][data['class'] == i].copy()\n",
        "\n",
        "  data_for_time_series.index = data_for_time_series['time_start']\n",
        "  data_for_time_series[\"year\"] = data_for_time_series.index.year\n",
        "  data_for_time_series[\"month\"] = data_for_time_series.index.month\n",
        "  data_for_time_series[\"weekday\"] = data_for_time_series.index.weekday\n",
        "  data_for_time_series[\"hour\"] = data_for_time_series.index.hour\n",
        "  data_for_time_series[\"minute\"] = data_for_time_series.index.minute\n",
        "  #data_for_time_series['is_weekend'] = data_for_time_series.weekday.isin([5,6])*1\n",
        "  data_for_time_series.drop(labels=['time_start'], inplace=True, axis=1)\n",
        "  data_for_time_series = data_for_time_series.sort_values(by='time_start')\n",
        "  \n",
        "  if (len(data_for_time_series) > 800) and (len(data_for_time_series) < 1500):\n",
        "    X_train, X_test, y_train, y_test = prepareData(data_for_time_series, test_size=0.1, lag_start=1, lag_end=int(len(data_for_time_series)*0.1 - 10))\n",
        "  elif len(data_for_time_series)  < 300:\n",
        "    X_train, X_test, y_train, y_test = prepareData(data_for_time_series, test_size=0.3, lag_start=1, lag_end=int(len(data_for_time_series)*0.1))\n",
        "  elif len(data_for_time_series)  > 1500:\n",
        "    X_train, X_test, y_train, y_test = prepareData(data_for_time_series, test_size=0.1, lag_start=1, lag_end=24)\n",
        "  else:\n",
        "      X_train, X_test, y_train, y_test = prepareData(data_for_time_series, test_size=0.2, lag_start=1, lag_end=int(len(data_for_time_series)*0.2 - 15))\n",
        "\n",
        "  lr.fit(X_train, y_train)\n",
        "  prediction = lr.predict(X_test)\n",
        "\n",
        "  mape[i] = 1 - mean_absolute_error(prediction, y_test)/y_test.mean()\n",
        "  print(mape[i], i)"
      ],
      "execution_count": 147,
      "outputs": [
        {
          "output_type": "stream",
          "text": [
            "0.9999999999999986 0\n",
            "0.9999999999999993 1\n"
          ],
          "name": "stdout"
        },
        {
          "output_type": "error",
          "ename": "ValueError",
          "evalue": "ignored",
          "traceback": [
            "\u001b[0;31m---------------------------------------------------------------------------\u001b[0m",
            "\u001b[0;31mValueError\u001b[0m                                Traceback (most recent call last)",
            "\u001b[0;32m<ipython-input-147-29a52f8c2cb1>\u001b[0m in \u001b[0;36m<module>\u001b[0;34m()\u001b[0m\n\u001b[1;32m     25\u001b[0m \u001b[0;34m\u001b[0m\u001b[0m\n\u001b[1;32m     26\u001b[0m   \u001b[0mlr\u001b[0m\u001b[0;34m.\u001b[0m\u001b[0mfit\u001b[0m\u001b[0;34m(\u001b[0m\u001b[0mX_train\u001b[0m\u001b[0;34m,\u001b[0m \u001b[0my_train\u001b[0m\u001b[0;34m)\u001b[0m\u001b[0;34m\u001b[0m\u001b[0;34m\u001b[0m\u001b[0m\n\u001b[0;32m---> 27\u001b[0;31m   \u001b[0mprediction\u001b[0m \u001b[0;34m=\u001b[0m \u001b[0mlr\u001b[0m\u001b[0;34m.\u001b[0m\u001b[0mpredict\u001b[0m\u001b[0;34m(\u001b[0m\u001b[0mX_test\u001b[0m\u001b[0;34m)\u001b[0m\u001b[0;34m\u001b[0m\u001b[0;34m\u001b[0m\u001b[0m\n\u001b[0m\u001b[1;32m     28\u001b[0m \u001b[0;34m\u001b[0m\u001b[0m\n\u001b[1;32m     29\u001b[0m   \u001b[0mmape\u001b[0m\u001b[0;34m[\u001b[0m\u001b[0mi\u001b[0m\u001b[0;34m]\u001b[0m \u001b[0;34m=\u001b[0m \u001b[0;36m1\u001b[0m \u001b[0;34m-\u001b[0m \u001b[0mmean_absolute_error\u001b[0m\u001b[0;34m(\u001b[0m\u001b[0mprediction\u001b[0m\u001b[0;34m,\u001b[0m \u001b[0my_test\u001b[0m\u001b[0;34m)\u001b[0m\u001b[0;34m/\u001b[0m\u001b[0my_test\u001b[0m\u001b[0;34m.\u001b[0m\u001b[0mmean\u001b[0m\u001b[0;34m(\u001b[0m\u001b[0;34m)\u001b[0m\u001b[0;34m\u001b[0m\u001b[0;34m\u001b[0m\u001b[0m\n",
            "\u001b[0;32m/usr/local/lib/python3.6/dist-packages/sklearn/linear_model/_base.py\u001b[0m in \u001b[0;36mpredict\u001b[0;34m(self, X)\u001b[0m\n\u001b[1;32m    223\u001b[0m             \u001b[0mReturns\u001b[0m \u001b[0mpredicted\u001b[0m \u001b[0mvalues\u001b[0m\u001b[0;34m.\u001b[0m\u001b[0;34m\u001b[0m\u001b[0;34m\u001b[0m\u001b[0m\n\u001b[1;32m    224\u001b[0m         \"\"\"\n\u001b[0;32m--> 225\u001b[0;31m         \u001b[0;32mreturn\u001b[0m \u001b[0mself\u001b[0m\u001b[0;34m.\u001b[0m\u001b[0m_decision_function\u001b[0m\u001b[0;34m(\u001b[0m\u001b[0mX\u001b[0m\u001b[0;34m)\u001b[0m\u001b[0;34m\u001b[0m\u001b[0;34m\u001b[0m\u001b[0m\n\u001b[0m\u001b[1;32m    226\u001b[0m \u001b[0;34m\u001b[0m\u001b[0m\n\u001b[1;32m    227\u001b[0m     \u001b[0m_preprocess_data\u001b[0m \u001b[0;34m=\u001b[0m \u001b[0mstaticmethod\u001b[0m\u001b[0;34m(\u001b[0m\u001b[0m_preprocess_data\u001b[0m\u001b[0;34m)\u001b[0m\u001b[0;34m\u001b[0m\u001b[0;34m\u001b[0m\u001b[0m\n",
            "\u001b[0;32m/usr/local/lib/python3.6/dist-packages/sklearn/linear_model/_base.py\u001b[0m in \u001b[0;36m_decision_function\u001b[0;34m(self, X)\u001b[0m\n\u001b[1;32m    205\u001b[0m         \u001b[0mcheck_is_fitted\u001b[0m\u001b[0;34m(\u001b[0m\u001b[0mself\u001b[0m\u001b[0;34m)\u001b[0m\u001b[0;34m\u001b[0m\u001b[0;34m\u001b[0m\u001b[0m\n\u001b[1;32m    206\u001b[0m \u001b[0;34m\u001b[0m\u001b[0m\n\u001b[0;32m--> 207\u001b[0;31m         \u001b[0mX\u001b[0m \u001b[0;34m=\u001b[0m \u001b[0mcheck_array\u001b[0m\u001b[0;34m(\u001b[0m\u001b[0mX\u001b[0m\u001b[0;34m,\u001b[0m \u001b[0maccept_sparse\u001b[0m\u001b[0;34m=\u001b[0m\u001b[0;34m[\u001b[0m\u001b[0;34m'csr'\u001b[0m\u001b[0;34m,\u001b[0m \u001b[0;34m'csc'\u001b[0m\u001b[0;34m,\u001b[0m \u001b[0;34m'coo'\u001b[0m\u001b[0;34m]\u001b[0m\u001b[0;34m)\u001b[0m\u001b[0;34m\u001b[0m\u001b[0;34m\u001b[0m\u001b[0m\n\u001b[0m\u001b[1;32m    208\u001b[0m         return safe_sparse_dot(X, self.coef_.T,\n\u001b[1;32m    209\u001b[0m                                dense_output=True) + self.intercept_\n",
            "\u001b[0;32m/usr/local/lib/python3.6/dist-packages/sklearn/utils/validation.py\u001b[0m in \u001b[0;36mcheck_array\u001b[0;34m(array, accept_sparse, accept_large_sparse, dtype, order, copy, force_all_finite, ensure_2d, allow_nd, ensure_min_samples, ensure_min_features, warn_on_dtype, estimator)\u001b[0m\n\u001b[1;32m    584\u001b[0m                              \u001b[0;34m\" minimum of %d is required%s.\"\u001b[0m\u001b[0;34m\u001b[0m\u001b[0;34m\u001b[0m\u001b[0m\n\u001b[1;32m    585\u001b[0m                              % (n_samples, array.shape, ensure_min_samples,\n\u001b[0;32m--> 586\u001b[0;31m                                 context))\n\u001b[0m\u001b[1;32m    587\u001b[0m \u001b[0;34m\u001b[0m\u001b[0m\n\u001b[1;32m    588\u001b[0m     \u001b[0;32mif\u001b[0m \u001b[0mensure_min_features\u001b[0m \u001b[0;34m>\u001b[0m \u001b[0;36m0\u001b[0m \u001b[0;32mand\u001b[0m \u001b[0marray\u001b[0m\u001b[0;34m.\u001b[0m\u001b[0mndim\u001b[0m \u001b[0;34m==\u001b[0m \u001b[0;36m2\u001b[0m\u001b[0;34m:\u001b[0m\u001b[0;34m\u001b[0m\u001b[0;34m\u001b[0m\u001b[0m\n",
            "\u001b[0;31mValueError\u001b[0m: Found array with 0 sample(s) (shape=(0, 14)) while a minimum of 1 is required."
          ]
        }
      ]
    },
    {
      "cell_type": "code",
      "metadata": {
        "id": "fqEahtiJ-WJ1",
        "colab_type": "code",
        "colab": {}
      },
      "source": [
        "mape.mean()"
      ],
      "execution_count": 0,
      "outputs": []
    }
  ]
}