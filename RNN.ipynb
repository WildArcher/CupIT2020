{
  "nbformat": 4,
  "nbformat_minor": 0,
  "metadata": {
    "colab": {
      "name": "recurrent_neural_networks.ipynb",
      "provenance": [],
      "collapsed_sections": [],
      "include_colab_link": true
    },
    "kernelspec": {
      "display_name": "Python 3",
      "language": "python",
      "name": "python3"
    },
    "language_info": {
      "codemirror_mode": {
        "name": "ipython",
        "version": 3
      },
      "file_extension": ".py",
      "mimetype": "text/x-python",
      "name": "python",
      "nbconvert_exporter": "python",
      "pygments_lexer": "ipython3",
      "version": "3.7.3"
    }
  },
  "cells": [
    {
      "cell_type": "markdown",
      "metadata": {
        "id": "view-in-github",
        "colab_type": "text"
      },
      "source": [
        "<a href=\"https://colab.research.google.com/github/WildArcher/CupIT2020/blob/master/RNN.ipynb\" target=\"_parent\"><img src=\"https://colab.research.google.com/assets/colab-badge.svg\" alt=\"Open In Colab\"/></a>"
      ]
    },
    {
      "cell_type": "code",
      "metadata": {
        "colab_type": "code",
        "id": "f46NwG5ERvKE",
        "colab": {}
      },
      "source": [
        "import pandas as pd\n",
        "import numpy as np\n",
        "import matplotlib.pyplot as plt\n",
        "%matplotlib inline\n",
        "import seaborn as sns"
      ],
      "execution_count": 0,
      "outputs": []
    },
    {
      "cell_type": "markdown",
      "metadata": {
        "id": "B930ZFwHhRWb",
        "colab_type": "text"
      },
      "source": [
        "# Подготовка данных от Сергея"
      ]
    },
    {
      "cell_type": "code",
      "metadata": {
        "colab_type": "code",
        "id": "mapDIx1CRvKT",
        "colab": {}
      },
      "source": [
        "data = pd.read_csv('CL_megafon_Cup IT_2020_final_data.csv', sep=';')"
      ],
      "execution_count": 0,
      "outputs": []
    },
    {
      "cell_type": "code",
      "metadata": {
        "colab_type": "code",
        "id": "nn7jlxAvRvKh",
        "colab": {}
      },
      "source": [
        "data['time_start'] = pd.to_datetime(data['time_start'])\n",
        "data['time_end'] = pd.to_datetime(data['time_end'])"
      ],
      "execution_count": 0,
      "outputs": []
    },
    {
      "cell_type": "code",
      "metadata": {
        "colab_type": "code",
        "id": "mySvThOARvKu",
        "colab": {}
      },
      "source": [
        "data['duration'] = data['time_end'] - data['time_start']\n",
        "data['min']= data['duration'].dt.seconds/60"
      ],
      "execution_count": 0,
      "outputs": []
    },
    {
      "cell_type": "code",
      "metadata": {
        "colab_type": "code",
        "id": "wPguubYVRvkj",
        "colab": {}
      },
      "source": [
        "data_target = data['min'].copy()"
      ],
      "execution_count": 0,
      "outputs": []
    },
    {
      "cell_type": "code",
      "metadata": {
        "colab_type": "code",
        "id": "Tg8hSYyPRvq2",
        "colab": {}
      },
      "source": [
        "low, up = np.percentile(data['min'].values, [1 , 95]) \n",
        "\n",
        "bad_index = list(data[data['min'].values > up].index)"
      ],
      "execution_count": 0,
      "outputs": []
    },
    {
      "cell_type": "code",
      "metadata": {
        "colab_type": "code",
        "id": "dNT5zwDORvvt",
        "outputId": "a8cbf0d1-5734-49ed-83d3-9402689e56a2",
        "colab": {
          "base_uri": "https://localhost:8080/",
          "height": 282
        }
      },
      "source": [
        "data['min'].drop(index=bad_index).hist(bins=200)"
      ],
      "execution_count": 9,
      "outputs": [
        {
          "output_type": "execute_result",
          "data": {
            "text/plain": [
              "<matplotlib.axes._subplots.AxesSubplot at 0x7f3eea5a16d8>"
            ]
          },
          "metadata": {
            "tags": []
          },
          "execution_count": 9
        },
        {
          "output_type": "display_data",
          "data": {
            "image/png": "[encoded data removed]",
            "text/plain": [
              "<Figure size 432x288 with 1 Axes>"
            ]
          },
          "metadata": {
            "tags": []
          }
        }
      ]
    },
    {
      "cell_type": "code",
      "metadata": {
        "colab_type": "code",
        "id": "OSUE4q6xRvx2",
        "colab": {}
      },
      "source": [
        "data.drop(index=bad_index, inplace=True)\n",
        "data.index = range(data.shape[0])"
      ],
      "execution_count": 0,
      "outputs": []
    },
    {
      "cell_type": "markdown",
      "metadata": {
        "colab_type": "text",
        "id": "z27mun37Rv0n"
      },
      "source": [
        "## K-means\n",
        "\n"
      ]
    },
    {
      "cell_type": "code",
      "metadata": {
        "colab_type": "code",
        "id": "QKAH5IflRv1A",
        "colab": {}
      },
      "source": [
        "from sklearn.cluster import KMeans\n",
        "\n",
        "new_data = data[['place_latitude', 'place_longitude']].copy()"
      ],
      "execution_count": 0,
      "outputs": []
    },
    {
      "cell_type": "code",
      "metadata": {
        "colab_type": "code",
        "id": "FulkRLyTRv17",
        "colab": {
          "base_uri": "https://localhost:8080/",
          "height": 51
        },
        "outputId": "ef262d34-01d2-48cf-b824-4ef98980b4fe"
      },
      "source": [
        "%%time\n",
        "kmeans = KMeans(n_clusters=900, random_state=42).fit(new_data)"
      ],
      "execution_count": 152,
      "outputs": [
        {
          "output_type": "stream",
          "text": [
            "CPU times: user 1min 45s, sys: 1min 10s, total: 2min 55s\n",
            "Wall time: 1min 42s\n"
          ],
          "name": "stdout"
        }
      ]
    },
    {
      "cell_type": "code",
      "metadata": {
        "colab_type": "code",
        "id": "n9FRJR5PRv9T",
        "colab": {}
      },
      "source": [
        "new_data['class'] = kmeans.predict(new_data)"
      ],
      "execution_count": 0,
      "outputs": []
    },
    {
      "cell_type": "code",
      "metadata": {
        "colab_type": "code",
        "id": "kN479AtiRwDH",
        "colab": {}
      },
      "source": [
        "data['class'] = new_data['class']"
      ],
      "execution_count": 0,
      "outputs": []
    },
    {
      "cell_type": "code",
      "metadata": {
        "colab_type": "code",
        "id": "Xiot4zEqYlv2",
        "colab": {}
      },
      "source": [
        "data_for_time_series = data[['time_start', 'min']][data['class'] == 1].copy()"
      ],
      "execution_count": 0,
      "outputs": []
    },
    {
      "cell_type": "code",
      "metadata": {
        "id": "D1sVVANNr-Jq",
        "colab_type": "code",
        "colab": {
          "base_uri": "https://localhost:8080/",
          "height": 419
        },
        "outputId": "70803435-bd2a-48a9-eb2b-e1410448cc28"
      },
      "source": [
        "data_for_time_series"
      ],
      "execution_count": 129,
      "outputs": [
        {
          "output_type": "execute_result",
          "data": {
            "text/html": [
              "<div>\n",
              "<style scoped>\n",
              "    .dataframe tbody tr th:only-of-type {\n",
              "        vertical-align: middle;\n",
              "    }\n",
              "\n",
              "    .dataframe tbody tr th {\n",
              "        vertical-align: top;\n",
              "    }\n",
              "\n",
              "    .dataframe thead th {\n",
              "        text-align: right;\n",
              "    }\n",
              "</style>\n",
              "<table border=\"1\" class=\"dataframe\">\n",
              "  <thead>\n",
              "    <tr style=\"text-align: right;\">\n",
              "      <th></th>\n",
              "      <th>time_start</th>\n",
              "      <th>min</th>\n",
              "    </tr>\n",
              "  </thead>\n",
              "  <tbody>\n",
              "    <tr>\n",
              "      <th>343</th>\n",
              "      <td>2018-12-25 13:54:28</td>\n",
              "      <td>217.766667</td>\n",
              "    </tr>\n",
              "    <tr>\n",
              "      <th>344</th>\n",
              "      <td>2019-09-18 09:48:11</td>\n",
              "      <td>35.016667</td>\n",
              "    </tr>\n",
              "    <tr>\n",
              "      <th>345</th>\n",
              "      <td>2018-11-29 09:24:43</td>\n",
              "      <td>110.033333</td>\n",
              "    </tr>\n",
              "    <tr>\n",
              "      <th>346</th>\n",
              "      <td>2018-02-08 23:08:12</td>\n",
              "      <td>131.333333</td>\n",
              "    </tr>\n",
              "    <tr>\n",
              "      <th>398</th>\n",
              "      <td>2020-01-02 10:59:20</td>\n",
              "      <td>797.300000</td>\n",
              "    </tr>\n",
              "    <tr>\n",
              "      <th>...</th>\n",
              "      <td>...</td>\n",
              "      <td>...</td>\n",
              "    </tr>\n",
              "    <tr>\n",
              "      <th>74268</th>\n",
              "      <td>2019-04-05 09:14:03</td>\n",
              "      <td>34.433333</td>\n",
              "    </tr>\n",
              "    <tr>\n",
              "      <th>74269</th>\n",
              "      <td>2018-07-27 07:39:03</td>\n",
              "      <td>302.416667</td>\n",
              "    </tr>\n",
              "    <tr>\n",
              "      <th>74270</th>\n",
              "      <td>2018-04-19 07:18:00</td>\n",
              "      <td>463.066667</td>\n",
              "    </tr>\n",
              "    <tr>\n",
              "      <th>74277</th>\n",
              "      <td>2019-10-21 16:57:18</td>\n",
              "      <td>35.833333</td>\n",
              "    </tr>\n",
              "    <tr>\n",
              "      <th>74278</th>\n",
              "      <td>2019-09-04 11:22:21</td>\n",
              "      <td>81.866667</td>\n",
              "    </tr>\n",
              "  </tbody>\n",
              "</table>\n",
              "<p>3453 rows × 2 columns</p>\n",
              "</div>"
            ],
            "text/plain": [
              "               time_start         min\n",
              "343   2018-12-25 13:54:28  217.766667\n",
              "344   2019-09-18 09:48:11   35.016667\n",
              "345   2018-11-29 09:24:43  110.033333\n",
              "346   2018-02-08 23:08:12  131.333333\n",
              "398   2020-01-02 10:59:20  797.300000\n",
              "...                   ...         ...\n",
              "74268 2019-04-05 09:14:03   34.433333\n",
              "74269 2018-07-27 07:39:03  302.416667\n",
              "74270 2018-04-19 07:18:00  463.066667\n",
              "74277 2019-10-21 16:57:18   35.833333\n",
              "74278 2019-09-04 11:22:21   81.866667\n",
              "\n",
              "[3453 rows x 2 columns]"
            ]
          },
          "metadata": {
            "tags": []
          },
          "execution_count": 129
        }
      ]
    },
    {
      "cell_type": "markdown",
      "metadata": {
        "colab_type": "text",
        "id": "dusVJQW_GZfv"
      },
      "source": [
        "## Time series для одного кластера\n"
      ]
    },
    {
      "cell_type": "code",
      "metadata": {
        "colab_type": "code",
        "id": "K_Nn4GpHcIED",
        "colab": {}
      },
      "source": [
        "import sys\n",
        "import warnings\n",
        "warnings.filterwarnings('ignore')\n",
        "from tqdm import tqdm\n",
        "from sklearn.metrics import mean_absolute_error\n",
        "\n",
        "import statsmodels.formula.api as smf\n",
        "import statsmodels.tsa.api as smt\n",
        "import statsmodels.api as sm\n",
        "import scipy.stats as scs\n",
        "from scipy.optimize import minimize\n",
        "\n",
        "from sklearn.linear_model import LinearRegression"
      ],
      "execution_count": 0,
      "outputs": []
    },
    {
      "cell_type": "code",
      "metadata": {
        "colab_type": "code",
        "id": "vtgj9wh3oFvR",
        "colab": {}
      },
      "source": [
        "def code_mean(data, cat_feature, real_feature):\n",
        "    return dict(data.groupby(cat_feature)[real_feature].mean())"
      ],
      "execution_count": 0,
      "outputs": []
    },
    {
      "cell_type": "code",
      "metadata": {
        "colab_type": "code",
        "id": "lFkg_zG2mtbB",
        "outputId": "88a675f1-4003-4b72-ea66-cf4d3e9c8b23",
        "colab": {
          "base_uri": "https://localhost:8080/",
          "height": 235
        }
      },
      "source": [
        "data_for_time_series.index = data_for_time_series['time_start']\n",
        "data_for_time_series[\"year\"] = data_for_time_series.index.year\n",
        "data_for_time_series[\"month\"] = data_for_time_series.index.month\n",
        "data_for_time_series[\"weekday\"] = data_for_time_series.index.weekday\n",
        "data_for_time_series[\"hour\"] = data_for_time_series.index.hour\n",
        "data_for_time_series[\"minute\"] = data_for_time_series.index.minute\n",
        "#data_for_time_series['is_weekend'] = data_for_time_series.weekday.isin([5,6])*1\n",
        "data_for_time_series.drop(labels=['time_start'], inplace=True, axis=1)\n",
        "data_for_time_series.head()"
      ],
      "execution_count": 132,
      "outputs": [
        {
          "output_type": "execute_result",
          "data": {
            "text/html": [
              "<div>\n",
              "<style scoped>\n",
              "    .dataframe tbody tr th:only-of-type {\n",
              "        vertical-align: middle;\n",
              "    }\n",
              "\n",
              "    .dataframe tbody tr th {\n",
              "        vertical-align: top;\n",
              "    }\n",
              "\n",
              "    .dataframe thead th {\n",
              "        text-align: right;\n",
              "    }\n",
              "</style>\n",
              "<table border=\"1\" class=\"dataframe\">\n",
              "  <thead>\n",
              "    <tr style=\"text-align: right;\">\n",
              "      <th></th>\n",
              "      <th>min</th>\n",
              "      <th>year</th>\n",
              "      <th>month</th>\n",
              "      <th>weekday</th>\n",
              "      <th>hour</th>\n",
              "      <th>minute</th>\n",
              "    </tr>\n",
              "    <tr>\n",
              "      <th>time_start</th>\n",
              "      <th></th>\n",
              "      <th></th>\n",
              "      <th></th>\n",
              "      <th></th>\n",
              "      <th></th>\n",
              "      <th></th>\n",
              "    </tr>\n",
              "  </thead>\n",
              "  <tbody>\n",
              "    <tr>\n",
              "      <th>2018-12-25 13:54:28</th>\n",
              "      <td>217.766667</td>\n",
              "      <td>2018</td>\n",
              "      <td>12</td>\n",
              "      <td>1</td>\n",
              "      <td>13</td>\n",
              "      <td>54</td>\n",
              "    </tr>\n",
              "    <tr>\n",
              "      <th>2019-09-18 09:48:11</th>\n",
              "      <td>35.016667</td>\n",
              "      <td>2019</td>\n",
              "      <td>9</td>\n",
              "      <td>2</td>\n",
              "      <td>9</td>\n",
              "      <td>48</td>\n",
              "    </tr>\n",
              "    <tr>\n",
              "      <th>2018-11-29 09:24:43</th>\n",
              "      <td>110.033333</td>\n",
              "      <td>2018</td>\n",
              "      <td>11</td>\n",
              "      <td>3</td>\n",
              "      <td>9</td>\n",
              "      <td>24</td>\n",
              "    </tr>\n",
              "    <tr>\n",
              "      <th>2018-02-08 23:08:12</th>\n",
              "      <td>131.333333</td>\n",
              "      <td>2018</td>\n",
              "      <td>2</td>\n",
              "      <td>3</td>\n",
              "      <td>23</td>\n",
              "      <td>8</td>\n",
              "    </tr>\n",
              "    <tr>\n",
              "      <th>2020-01-02 10:59:20</th>\n",
              "      <td>797.300000</td>\n",
              "      <td>2020</td>\n",
              "      <td>1</td>\n",
              "      <td>3</td>\n",
              "      <td>10</td>\n",
              "      <td>59</td>\n",
              "    </tr>\n",
              "  </tbody>\n",
              "</table>\n",
              "</div>"
            ],
            "text/plain": [
              "                            min  year  month  weekday  hour  minute\n",
              "time_start                                                         \n",
              "2018-12-25 13:54:28  217.766667  2018     12        1    13      54\n",
              "2019-09-18 09:48:11   35.016667  2019      9        2     9      48\n",
              "2018-11-29 09:24:43  110.033333  2018     11        3     9      24\n",
              "2018-02-08 23:08:12  131.333333  2018      2        3    23       8\n",
              "2020-01-02 10:59:20  797.300000  2020      1        3    10      59"
            ]
          },
          "metadata": {
            "tags": []
          },
          "execution_count": 132
        }
      ]
    },
    {
      "cell_type": "code",
      "metadata": {
        "id": "Chb9TiophRZN",
        "colab_type": "code",
        "colab": {}
      },
      "source": [
        "def prepareData(data, test_size):\n",
        "\n",
        "    test_index = int(len(data)*(1-test_size))\n",
        "\n",
        "    data.drop(['year', 'month', 'weekday', 'hour', 'minute'], axis=1, inplace=True)\n",
        "    data = data.dropna()\n",
        "    data = data.reset_index(drop=True)\n",
        "    \n",
        "    data = data.sort_index()\n",
        "\n",
        "    x_train = data.loc[:test_index]['min']\n",
        "    x_test = data.loc[test_index:]['min']\n",
        "    \n",
        "    x_test = x_test.reset_index()\n",
        "\n",
        "    return x_train, x_test"
      ],
      "execution_count": 0,
      "outputs": []
    },
    {
      "cell_type": "code",
      "metadata": {
        "colab_type": "code",
        "id": "aVB09paZp8ZV",
        "colab": {}
      },
      "source": [
        "x_train, x_test = prepareData(data_for_time_series, test_size=0.3)"
      ],
      "execution_count": 0,
      "outputs": []
    },
    {
      "cell_type": "code",
      "metadata": {
        "id": "lo6qY5EesGlI",
        "colab_type": "code",
        "colab": {
          "base_uri": "https://localhost:8080/",
          "height": 221
        },
        "outputId": "786237eb-a677-42a5-d2d8-0d7f508760bf"
      },
      "source": [
        "x_train"
      ],
      "execution_count": 135,
      "outputs": [
        {
          "output_type": "execute_result",
          "data": {
            "text/plain": [
              "0       217.766667\n",
              "1        35.016667\n",
              "2       110.033333\n",
              "3       131.333333\n",
              "4       797.300000\n",
              "           ...    \n",
              "2413     35.183333\n",
              "2414    749.516667\n",
              "2415    483.483333\n",
              "2416    294.883333\n",
              "2417    170.333333\n",
              "Name: min, Length: 2418, dtype: float64"
            ]
          },
          "metadata": {
            "tags": []
          },
          "execution_count": 135
        }
      ]
    },
    {
      "cell_type": "code",
      "metadata": {
        "id": "0ovvNoNKhRZa",
        "colab_type": "code",
        "colab": {}
      },
      "source": [
        "import tensorflow as tf\n",
        "from tensorflow.keras.models import Sequential\n",
        "from tensorflow.keras.layers import Dense, Activation"
      ],
      "execution_count": 0,
      "outputs": []
    },
    {
      "cell_type": "code",
      "metadata": {
        "id": "DG1CHTMnhRZj",
        "colab_type": "code",
        "colab": {}
      },
      "source": [
        "window_size = 20\n",
        "batch_size=32\n",
        "test_size = 0.3\n",
        "test_index = int(len(data_for_time_series)*(1-test_size))\n",
        "def make_datasets(series, batch_size=32, window_size=20):\n",
        "    shuffle_buffer_size = 1000\n",
        "    train_dataset = tf.data.Dataset.from_tensor_slices(series)\n",
        "    train_dataset = train_dataset.window(window_size + 1, shift=1, drop_remainder=True)\n",
        "    train_dataset = train_dataset.flat_map(lambda window: window.batch(window_size + 1))\n",
        "    train_dataset = train_dataset.shuffle(shuffle_buffer_size).map(lambda window: (window[:-1], window[-1]))\n",
        "    train_dataset = train_dataset.batch(batch_size).prefetch(1)\n",
        "    return train_dataset"
      ],
      "execution_count": 0,
      "outputs": []
    },
    {
      "cell_type": "code",
      "metadata": {
        "id": "i_Yc5K5ehRZr",
        "colab_type": "code",
        "colab": {}
      },
      "source": [
        "def mape(y_true, predicted):\n",
        "    return np.mean(np.abs(y_true - np.ravel(predicted)) / y_true)"
      ],
      "execution_count": 0,
      "outputs": []
    },
    {
      "cell_type": "code",
      "metadata": {
        "id": "EgAlxn1YhRZ4",
        "colab_type": "code",
        "colab": {}
      },
      "source": [
        "def make_prediction(model, data_for_time_series, window_size, test_index, x_test):\n",
        "    \n",
        "    forecast = []\n",
        "\n",
        "    for time in range(len(data_for_time_series) - window_size):\n",
        "        forecast.append(model.predict(data_for_time_series[time:time + window_size].T))\n",
        "\n",
        "\n",
        "    forecast = forecast[test_index - window_size:]\n",
        "    results = np.array(forecast)[:, 0]\n",
        "\n",
        "\n",
        "    plt.figure(figsize=(10, 6))\n",
        "\n",
        "    plt.plot(x_test, label='true')\n",
        "    plt.plot(results, label='predicted')\n",
        "    plt.title('MAPE: {}'.format(mape(x_test.values, results)))\n",
        "    plt.legend()"
      ],
      "execution_count": 0,
      "outputs": []
    },
    {
      "cell_type": "markdown",
      "metadata": {
        "id": "EFi9pOwHhRaz",
        "colab_type": "text"
      },
      "source": [
        "# Пробуем RNN"
      ]
    },
    {
      "cell_type": "code",
      "metadata": {
        "id": "HHS2ew-rhRa1",
        "colab_type": "code",
        "colab": {}
      },
      "source": [
        "from tensorflow.keras.layers import SimpleRNN, Lambda\n",
        "from tensorflow.keras.layers import Dense, Activation\n",
        "from tensorflow.keras.models import Sequential\n",
        "from tensorflow.keras.layers import Dense, Activation"
      ],
      "execution_count": 0,
      "outputs": []
    },
    {
      "cell_type": "code",
      "metadata": {
        "id": "dqN0gkowhRa8",
        "colab_type": "code",
        "colab": {}
      },
      "source": [
        "tf.keras.backend.clear_session()\n",
        "\n",
        "train_dataset = make_datasets(x_train, batch_size=128, window_size=30)\n",
        "test_dataset = make_datasets(x_test, batch_size=128, window_size=30)\n",
        "\n",
        "rnn = Sequential([Lambda(lambda x: tf.expand_dims(x, axis=-1), input_shape=[None]), \n",
        "                         SimpleRNN(32, return_sequences=True),\n",
        "                         SimpleRNN(16),\n",
        "                         Dense(8, activation='relu'),\n",
        "                         Dense(1), \n",
        "                         Lambda(lambda x : x * 500.0)])\n",
        "\n",
        "optimizer = tf.keras.optimizers.Adam()\n",
        "rnn.compile(loss=tf.keras.losses.MeanAbsolutePercentageError(),\n",
        "              optimizer=optimizer)"
      ],
      "execution_count": 0,
      "outputs": []
    },
    {
      "cell_type": "code",
      "metadata": {
        "scrolled": true,
        "id": "kr_YS8KShRbD",
        "colab_type": "code",
        "colab": {
          "base_uri": "https://localhost:8080/",
          "height": 1000
        },
        "outputId": "b17a83aa-5029-4f7e-e608-7e15c9b7c271"
      },
      "source": [
        "history = rnn.fit(train_dataset, epochs=50)"
      ],
      "execution_count": 142,
      "outputs": [
        {
          "output_type": "stream",
          "text": [
            "Epoch 1/50\n",
            "19/19 [==============================] - 0s 20ms/step - loss: 95.9443\n",
            "Epoch 2/50\n",
            "19/19 [==============================] - 0s 22ms/step - loss: 79.3761\n",
            "Epoch 3/50\n",
            "19/19 [==============================] - 0s 20ms/step - loss: 79.1617\n",
            "Epoch 4/50\n",
            "19/19 [==============================] - 0s 21ms/step - loss: 79.9734\n",
            "Epoch 5/50\n",
            "19/19 [==============================] - 0s 22ms/step - loss: 77.8853\n",
            "Epoch 6/50\n",
            "19/19 [==============================] - 0s 21ms/step - loss: 79.0885\n",
            "Epoch 7/50\n",
            "19/19 [==============================] - 0s 21ms/step - loss: 78.1301\n",
            "Epoch 8/50\n",
            "19/19 [==============================] - 0s 19ms/step - loss: 76.9513\n",
            "Epoch 9/50\n",
            "19/19 [==============================] - 0s 20ms/step - loss: 76.9362\n",
            "Epoch 10/50\n",
            "19/19 [==============================] - 0s 21ms/step - loss: 76.9627\n",
            "Epoch 11/50\n",
            "19/19 [==============================] - 0s 20ms/step - loss: 73.9562\n",
            "Epoch 12/50\n",
            "19/19 [==============================] - 0s 19ms/step - loss: 72.4698\n",
            "Epoch 13/50\n",
            "19/19 [==============================] - 0s 21ms/step - loss: 73.5188\n",
            "Epoch 14/50\n",
            "19/19 [==============================] - 0s 22ms/step - loss: 73.9380\n",
            "Epoch 15/50\n",
            "19/19 [==============================] - 0s 23ms/step - loss: 74.6382\n",
            "Epoch 16/50\n",
            "19/19 [==============================] - 0s 19ms/step - loss: 72.5175\n",
            "Epoch 17/50\n",
            "19/19 [==============================] - 0s 20ms/step - loss: 75.2643\n",
            "Epoch 18/50\n",
            "19/19 [==============================] - 0s 20ms/step - loss: 72.8040\n",
            "Epoch 19/50\n",
            "19/19 [==============================] - 0s 21ms/step - loss: 73.8300\n",
            "Epoch 20/50\n",
            "19/19 [==============================] - 0s 24ms/step - loss: 74.3700\n",
            "Epoch 21/50\n",
            "19/19 [==============================] - 0s 21ms/step - loss: 76.8956\n",
            "Epoch 22/50\n",
            "19/19 [==============================] - 0s 18ms/step - loss: 73.3416\n",
            "Epoch 23/50\n",
            "19/19 [==============================] - 0s 21ms/step - loss: 72.9968\n",
            "Epoch 24/50\n",
            "19/19 [==============================] - 0s 24ms/step - loss: 72.9458\n",
            "Epoch 25/50\n",
            "19/19 [==============================] - 0s 20ms/step - loss: 72.6460\n",
            "Epoch 26/50\n",
            "19/19 [==============================] - 0s 20ms/step - loss: 73.5561\n",
            "Epoch 27/50\n",
            "19/19 [==============================] - 0s 22ms/step - loss: 74.2756\n",
            "Epoch 28/50\n",
            "19/19 [==============================] - 0s 20ms/step - loss: 73.3941\n",
            "Epoch 29/50\n",
            "19/19 [==============================] - 0s 21ms/step - loss: 74.4998\n",
            "Epoch 30/50\n",
            "19/19 [==============================] - 0s 19ms/step - loss: 72.2052\n",
            "Epoch 31/50\n",
            "19/19 [==============================] - 0s 18ms/step - loss: 72.5441\n",
            "Epoch 32/50\n",
            "19/19 [==============================] - 0s 19ms/step - loss: 74.2666\n",
            "Epoch 33/50\n",
            "19/19 [==============================] - 0s 21ms/step - loss: 73.3824\n",
            "Epoch 34/50\n",
            "19/19 [==============================] - 0s 19ms/step - loss: 72.1538\n",
            "Epoch 35/50\n",
            "19/19 [==============================] - 0s 19ms/step - loss: 75.1266\n",
            "Epoch 36/50\n",
            "19/19 [==============================] - 0s 19ms/step - loss: 79.9522\n",
            "Epoch 37/50\n",
            "19/19 [==============================] - 0s 18ms/step - loss: 72.2531\n",
            "Epoch 38/50\n",
            "19/19 [==============================] - 0s 21ms/step - loss: 72.3607\n",
            "Epoch 39/50\n",
            "19/19 [==============================] - 0s 18ms/step - loss: 70.9877\n",
            "Epoch 40/50\n",
            "19/19 [==============================] - 0s 21ms/step - loss: 70.9882\n",
            "Epoch 41/50\n",
            "19/19 [==============================] - 0s 22ms/step - loss: 72.0700\n",
            "Epoch 42/50\n",
            "19/19 [==============================] - 0s 22ms/step - loss: 74.4221\n",
            "Epoch 43/50\n",
            "19/19 [==============================] - 0s 19ms/step - loss: 71.8375\n",
            "Epoch 44/50\n",
            "19/19 [==============================] - 0s 18ms/step - loss: 74.1676\n",
            "Epoch 45/50\n",
            "19/19 [==============================] - 0s 20ms/step - loss: 70.7855\n",
            "Epoch 46/50\n",
            "19/19 [==============================] - 0s 19ms/step - loss: 71.0583\n",
            "Epoch 47/50\n",
            "19/19 [==============================] - 0s 20ms/step - loss: 72.0802\n",
            "Epoch 48/50\n",
            "19/19 [==============================] - 0s 18ms/step - loss: 73.0297\n",
            "Epoch 49/50\n",
            "19/19 [==============================] - 0s 19ms/step - loss: 71.2314\n",
            "Epoch 50/50\n",
            "19/19 [==============================] - 0s 18ms/step - loss: 71.6033\n"
          ],
          "name": "stdout"
        }
      ]
    },
    {
      "cell_type": "code",
      "metadata": {
        "id": "CJlbtVv2hRbK",
        "colab_type": "code",
        "colab": {
          "base_uri": "https://localhost:8080/",
          "height": 282
        },
        "outputId": "9b79e160-ea5c-4c86-96b4-de8a06e38e07"
      },
      "source": [
        "plt.plot(history.history['loss'])"
      ],
      "execution_count": 143,
      "outputs": [
        {
          "output_type": "execute_result",
          "data": {
            "text/plain": [
              "[<matplotlib.lines.Line2D at 0x7f3e50a1a7b8>]"
            ]
          },
          "metadata": {
            "tags": []
          },
          "execution_count": 143
        },
        {
          "output_type": "display_data",
          "data": {
            "image/png": "[encoded data removed]",
            "text/plain": [
              "<Figure size 432x288 with 1 Axes>"
            ]
          },
          "metadata": {
            "tags": []
          }
        }
      ]
    },
    {
      "cell_type": "markdown",
      "metadata": {
        "id": "9NfDbecFhRb1",
        "colab_type": "text"
      },
      "source": [
        "# После многочисленых испытаний - лучшая модель == rnn"
      ]
    },
    {
      "cell_type": "code",
      "metadata": {
        "id": "6-yH-06DhRb4",
        "colab_type": "code",
        "colab": {}
      },
      "source": [
        "data_for_time_series = data_for_time_series.sort_index()"
      ],
      "execution_count": 0,
      "outputs": []
    },
    {
      "cell_type": "code",
      "metadata": {
        "id": "Jgc9RrgUhRcI",
        "colab_type": "code",
        "colab": {
          "base_uri": "https://localhost:8080/",
          "height": 235
        },
        "outputId": "c9e727c3-4012-4b48-9970-f7c7d4ab2909"
      },
      "source": [
        "data_for_time_series.head()"
      ],
      "execution_count": 145,
      "outputs": [
        {
          "output_type": "execute_result",
          "data": {
            "text/html": [
              "<div>\n",
              "<style scoped>\n",
              "    .dataframe tbody tr th:only-of-type {\n",
              "        vertical-align: middle;\n",
              "    }\n",
              "\n",
              "    .dataframe tbody tr th {\n",
              "        vertical-align: top;\n",
              "    }\n",
              "\n",
              "    .dataframe thead th {\n",
              "        text-align: right;\n",
              "    }\n",
              "</style>\n",
              "<table border=\"1\" class=\"dataframe\">\n",
              "  <thead>\n",
              "    <tr style=\"text-align: right;\">\n",
              "      <th></th>\n",
              "      <th>min</th>\n",
              "    </tr>\n",
              "    <tr>\n",
              "      <th>time_start</th>\n",
              "      <th></th>\n",
              "    </tr>\n",
              "  </thead>\n",
              "  <tbody>\n",
              "    <tr>\n",
              "      <th>2018-01-01 09:57:24</th>\n",
              "      <td>19.083333</td>\n",
              "    </tr>\n",
              "    <tr>\n",
              "      <th>2018-01-02 04:32:33</th>\n",
              "      <td>28.916667</td>\n",
              "    </tr>\n",
              "    <tr>\n",
              "      <th>2018-01-04 03:29:47</th>\n",
              "      <td>89.733333</td>\n",
              "    </tr>\n",
              "    <tr>\n",
              "      <th>2018-01-08 13:36:51</th>\n",
              "      <td>35.633333</td>\n",
              "    </tr>\n",
              "    <tr>\n",
              "      <th>2018-01-08 18:39:07</th>\n",
              "      <td>284.600000</td>\n",
              "    </tr>\n",
              "  </tbody>\n",
              "</table>\n",
              "</div>"
            ],
            "text/plain": [
              "                            min\n",
              "time_start                     \n",
              "2018-01-01 09:57:24   19.083333\n",
              "2018-01-02 04:32:33   28.916667\n",
              "2018-01-04 03:29:47   89.733333\n",
              "2018-01-08 13:36:51   35.633333\n",
              "2018-01-08 18:39:07  284.600000"
            ]
          },
          "metadata": {
            "tags": []
          },
          "execution_count": 145
        }
      ]
    },
    {
      "cell_type": "code",
      "metadata": {
        "id": "35yCjTEqhRcP",
        "colab_type": "code",
        "colab": {}
      },
      "source": [
        "test_size = 0.1\n",
        "test_index = int(len(data_for_time_series) * (1-test_size))\n",
        "\n",
        "data_for_time_series = data_for_time_series.reset_index(drop=True)\n",
        "\n",
        "x_train = data_for_time_series.loc[:test_index]['min']\n",
        "x_test = data_for_time_series.loc[test_index:]['min']\n",
        "    \n",
        "x_test = x_test.reset_index()\n",
        "\n",
        "x_test = x_test.drop(columns=['index'])"
      ],
      "execution_count": 0,
      "outputs": []
    },
    {
      "cell_type": "code",
      "metadata": {
        "id": "xYzMLeFFhRcW",
        "colab_type": "code",
        "colab": {}
      },
      "source": [
        "tf.keras.backend.clear_session()\n",
        "\n",
        "train_dataset = make_datasets(x_train, batch_size=200, window_size=40)\n",
        "test_dataset = make_datasets(x_test, batch_size=200, window_size=40)\n",
        "\n",
        "rnn = Sequential([Lambda(lambda x: tf.expand_dims(x, axis=-1), input_shape=[None]), \n",
        "                         SimpleRNN(32, return_sequences=True),\n",
        "                         SimpleRNN(16),\n",
        "                         Dense(8, activation='relu'),\n",
        "                         Dense(1), \n",
        "                         Lambda(lambda x : x * 500.0)])\n",
        "\n",
        "optimizer = tf.keras.optimizers.Adam()\n",
        "rnn.compile(loss=tf.keras.losses.MeanAbsolutePercentageError(),\n",
        "              optimizer=optimizer)"
      ],
      "execution_count": 0,
      "outputs": []
    },
    {
      "cell_type": "code",
      "metadata": {
        "id": "Eu6_t9H2hRcb",
        "colab_type": "code",
        "colab": {
          "base_uri": "https://localhost:8080/",
          "height": 1000
        },
        "outputId": "3e6a0ba1-c9bb-4434-cef3-176f469453e5"
      },
      "source": [
        "history = rnn.fit(train_dataset, epochs=50)"
      ],
      "execution_count": 148,
      "outputs": [
        {
          "output_type": "stream",
          "text": [
            "Epoch 1/50\n",
            "16/16 [==============================] - 1s 37ms/step - loss: 269.7163\n",
            "Epoch 2/50\n",
            "16/16 [==============================] - 1s 33ms/step - loss: 104.8454\n",
            "Epoch 3/50\n",
            "16/16 [==============================] - 1s 31ms/step - loss: 81.8586\n",
            "Epoch 4/50\n",
            "16/16 [==============================] - 1s 31ms/step - loss: 76.4217\n",
            "Epoch 5/50\n",
            "16/16 [==============================] - 0s 30ms/step - loss: 74.3281\n",
            "Epoch 6/50\n",
            "16/16 [==============================] - 1s 34ms/step - loss: 71.9410\n",
            "Epoch 7/50\n",
            "16/16 [==============================] - 1s 38ms/step - loss: 73.5026\n",
            "Epoch 8/50\n",
            "16/16 [==============================] - 1s 34ms/step - loss: 71.3170\n",
            "Epoch 9/50\n",
            "16/16 [==============================] - 1s 33ms/step - loss: 75.0932\n",
            "Epoch 10/50\n",
            "16/16 [==============================] - 1s 33ms/step - loss: 72.1897\n",
            "Epoch 11/50\n",
            "16/16 [==============================] - 0s 31ms/step - loss: 72.3142\n",
            "Epoch 12/50\n",
            "16/16 [==============================] - 0s 31ms/step - loss: 76.0340\n",
            "Epoch 13/50\n",
            "16/16 [==============================] - 1s 34ms/step - loss: 75.2889\n",
            "Epoch 14/50\n",
            "16/16 [==============================] - 1s 34ms/step - loss: 76.6124\n",
            "Epoch 15/50\n",
            "16/16 [==============================] - 0s 31ms/step - loss: 80.6001\n",
            "Epoch 16/50\n",
            "16/16 [==============================] - 1s 33ms/step - loss: 72.8419\n",
            "Epoch 17/50\n",
            "16/16 [==============================] - 1s 33ms/step - loss: 72.9016\n",
            "Epoch 18/50\n",
            "16/16 [==============================] - 1s 36ms/step - loss: 72.4937\n",
            "Epoch 19/50\n",
            "16/16 [==============================] - 1s 38ms/step - loss: 70.8418\n",
            "Epoch 20/50\n",
            "16/16 [==============================] - 1s 33ms/step - loss: 74.3436\n",
            "Epoch 21/50\n",
            "16/16 [==============================] - 1s 35ms/step - loss: 71.1432\n",
            "Epoch 22/50\n",
            "16/16 [==============================] - 1s 33ms/step - loss: 70.7403\n",
            "Epoch 23/50\n",
            "16/16 [==============================] - 1s 33ms/step - loss: 72.5230\n",
            "Epoch 24/50\n",
            "16/16 [==============================] - 1s 34ms/step - loss: 74.6007\n",
            "Epoch 25/50\n",
            "16/16 [==============================] - 1s 34ms/step - loss: 71.1461\n",
            "Epoch 26/50\n",
            "16/16 [==============================] - 1s 34ms/step - loss: 74.3316\n",
            "Epoch 27/50\n",
            "16/16 [==============================] - 1s 40ms/step - loss: 72.7853\n",
            "Epoch 28/50\n",
            "16/16 [==============================] - 1s 34ms/step - loss: 73.6804\n",
            "Epoch 29/50\n",
            "16/16 [==============================] - 1s 33ms/step - loss: 71.3216\n",
            "Epoch 30/50\n",
            "16/16 [==============================] - 1s 34ms/step - loss: 71.7208\n",
            "Epoch 31/50\n",
            "16/16 [==============================] - 1s 35ms/step - loss: 71.2643\n",
            "Epoch 32/50\n",
            "16/16 [==============================] - 1s 34ms/step - loss: 71.1028\n",
            "Epoch 33/50\n",
            "16/16 [==============================] - 1s 33ms/step - loss: 71.2674\n",
            "Epoch 34/50\n",
            "16/16 [==============================] - 1s 32ms/step - loss: 72.1715\n",
            "Epoch 35/50\n",
            "16/16 [==============================] - 1s 32ms/step - loss: 72.2749\n",
            "Epoch 36/50\n",
            "16/16 [==============================] - 1s 31ms/step - loss: 70.9059\n",
            "Epoch 37/50\n",
            "16/16 [==============================] - 1s 37ms/step - loss: 71.6782\n",
            "Epoch 38/50\n",
            "16/16 [==============================] - 1s 32ms/step - loss: 72.0898\n",
            "Epoch 39/50\n",
            "16/16 [==============================] - 1s 31ms/step - loss: 70.7672\n",
            "Epoch 40/50\n",
            "16/16 [==============================] - 0s 31ms/step - loss: 80.1876\n",
            "Epoch 41/50\n",
            "16/16 [==============================] - 1s 33ms/step - loss: 73.7473\n",
            "Epoch 42/50\n",
            "16/16 [==============================] - 1s 36ms/step - loss: 72.0474\n",
            "Epoch 43/50\n",
            "16/16 [==============================] - 0s 31ms/step - loss: 73.8596\n",
            "Epoch 44/50\n",
            "16/16 [==============================] - 1s 38ms/step - loss: 71.2144\n",
            "Epoch 45/50\n",
            "16/16 [==============================] - 1s 39ms/step - loss: 72.1445\n",
            "Epoch 46/50\n",
            "16/16 [==============================] - 1s 32ms/step - loss: 78.4773\n",
            "Epoch 47/50\n",
            "16/16 [==============================] - 1s 35ms/step - loss: 71.3367\n",
            "Epoch 48/50\n",
            "16/16 [==============================] - 1s 32ms/step - loss: 70.7592\n",
            "Epoch 49/50\n",
            "16/16 [==============================] - 1s 36ms/step - loss: 73.1951\n",
            "Epoch 50/50\n",
            "16/16 [==============================] - 0s 30ms/step - loss: 77.0504\n"
          ],
          "name": "stdout"
        }
      ]
    },
    {
      "cell_type": "code",
      "metadata": {
        "id": "S4MVI5L9hRch",
        "colab_type": "code",
        "colab": {
          "base_uri": "https://localhost:8080/",
          "height": 390
        },
        "outputId": "7500b1be-d0e3-4b82-8b4f-23de627cfe22"
      },
      "source": [
        "make_prediction(rnn, data_for_time_series, 40, test_index, x_test)"
      ],
      "execution_count": 149,
      "outputs": [
        {
          "output_type": "display_data",
          "data": {
            "image/png": "[encoded data removed]",
            "text/plain": [
              "<Figure size 720x432 with 1 Axes>"
            ]
          },
          "metadata": {
            "tags": []
          }
        }
      ]
    },
    {
      "cell_type": "markdown",
      "metadata": {
        "id": "8XS6ZLOrhRcn",
        "colab_type": "text"
      },
      "source": [
        "# Модель довольно странно подогналась под MAPE, но зато это лучшее, что получилось. Что важно, она довольно устойчива и не склонна к переобучению. Главный недостаток - отсутсвие смелых прогнозов, но это позволяет выдовать приемлемый MAPE."
      ]
    },
    {
      "cell_type": "markdown",
      "metadata": {
        "id": "2jqLTb65CdBQ",
        "colab_type": "text"
      },
      "source": [
        "## RNN для всех данных"
      ]
    },
    {
      "cell_type": "code",
      "metadata": {
        "id": "lrxdQS7inO1g",
        "colab_type": "code",
        "colab": {
          "base_uri": "https://localhost:8080/",
          "height": 1000
        },
        "outputId": "ac7e07b2-ee8f-4ec5-80b5-7933b3d3ac87"
      },
      "source": [
        "mape = np.zeros(len(np.unique(data['class'])))\n",
        "\n",
        "for i in range(3):\n",
        "\n",
        "  data_for_time_series = data[['time_start', 'min']][data['class'] == i].copy()\n",
        "\n",
        "  data_for_time_series.index = data_for_time_series['time_start']\n",
        "  data_for_time_series[\"year\"] = data_for_time_series.index.year\n",
        "  data_for_time_series[\"month\"] = data_for_time_series.index.month\n",
        "  data_for_time_series[\"weekday\"] = data_for_time_series.index.weekday\n",
        "  data_for_time_series[\"hour\"] = data_for_time_series.index.hour\n",
        "  data_for_time_series[\"minute\"] = data_for_time_series.index.minute\n",
        "  #data_for_time_series['is_weekend'] = data_for_time_series.weekday.isin([5,6])*1\n",
        "  data_for_time_series.drop(labels=['time_start'], inplace=True, axis=1)\n",
        "\n",
        "  data_for_time_series = data_for_time_series.sort_index()\n",
        "\n",
        "  x_train, x_test = prepareData(data_for_time_series, test_size=0.3)\n",
        "\n",
        "  test_size = 0.1\n",
        "  test_index = int(len(data_for_time_series) * (1-test_size))\n",
        "\n",
        "  data_for_time_series = data_for_time_series.reset_index(drop=True)\n",
        "\n",
        "  x_train = data_for_time_series.loc[:test_index]['min']\n",
        "  x_test = data_for_time_series.loc[test_index:]['min']\n",
        "    \n",
        "  x_test = x_test.reset_index()\n",
        "\n",
        "  x_test = x_test.drop(columns=['index'])\n",
        "\n",
        "  tf.keras.backend.clear_session()\n",
        "\n",
        "  train_dataset = make_datasets(x_train, batch_size=200, window_size=40)\n",
        "  test_dataset = make_datasets(x_test, batch_size=200, window_size=40)\n",
        "\n",
        "  optimizer = tf.keras.optimizers.Adam()\n",
        "  rnn.compile(loss=tf.keras.losses.MeanAbsolutePercentageError(),\n",
        "              optimizer=optimizer)\n",
        "\n",
        "  history = rnn.fit(train_dataset, epochs=50)\n",
        "\n",
        "  make_prediction(rnn, data_for_time_series, 40, test_index, x_test)\n"
      ],
      "execution_count": 150,
      "outputs": [
        {
          "output_type": "stream",
          "text": [
            "Epoch 1/50\n",
            "27/27 [==============================] - 1s 39ms/step - loss: 78.7482\n",
            "Epoch 2/50\n",
            "27/27 [==============================] - 1s 39ms/step - loss: 85.5528\n",
            "Epoch 3/50\n",
            "27/27 [==============================] - 1s 38ms/step - loss: 82.3744\n",
            "Epoch 4/50\n",
            "27/27 [==============================] - 1s 39ms/step - loss: 76.5087\n",
            "Epoch 5/50\n",
            "27/27 [==============================] - 1s 40ms/step - loss: 82.0074\n",
            "Epoch 6/50\n",
            "27/27 [==============================] - 1s 37ms/step - loss: 74.8472\n",
            "Epoch 7/50\n",
            "27/27 [==============================] - 1s 38ms/step - loss: 75.7642\n",
            "Epoch 8/50\n",
            "27/27 [==============================] - 1s 40ms/step - loss: 80.7805\n",
            "Epoch 9/50\n",
            "27/27 [==============================] - 1s 36ms/step - loss: 80.4430\n",
            "Epoch 10/50\n",
            "27/27 [==============================] - 1s 35ms/step - loss: 75.7299\n",
            "Epoch 11/50\n",
            "27/27 [==============================] - 1s 36ms/step - loss: 76.2143\n",
            "Epoch 12/50\n",
            "27/27 [==============================] - 1s 39ms/step - loss: 75.1350\n",
            "Epoch 13/50\n",
            "27/27 [==============================] - 1s 37ms/step - loss: 77.3910\n",
            "Epoch 14/50\n",
            "27/27 [==============================] - 1s 36ms/step - loss: 74.6282\n",
            "Epoch 15/50\n",
            "27/27 [==============================] - 1s 39ms/step - loss: 76.2675\n",
            "Epoch 16/50\n",
            "27/27 [==============================] - 1s 40ms/step - loss: 74.9408\n",
            "Epoch 17/50\n",
            "27/27 [==============================] - 1s 38ms/step - loss: 79.1822\n",
            "Epoch 18/50\n",
            "27/27 [==============================] - 1s 41ms/step - loss: 76.2689\n",
            "Epoch 19/50\n",
            "27/27 [==============================] - 1s 38ms/step - loss: 81.4856\n",
            "Epoch 20/50\n",
            "27/27 [==============================] - 1s 40ms/step - loss: 74.9350\n",
            "Epoch 21/50\n",
            "27/27 [==============================] - 1s 39ms/step - loss: 75.7222\n",
            "Epoch 22/50\n",
            "27/27 [==============================] - 1s 40ms/step - loss: 75.7336\n",
            "Epoch 23/50\n",
            "27/27 [==============================] - 1s 37ms/step - loss: 75.7759\n",
            "Epoch 24/50\n",
            "27/27 [==============================] - 1s 41ms/step - loss: 75.1918\n",
            "Epoch 25/50\n",
            "27/27 [==============================] - 1s 36ms/step - loss: 75.9115\n",
            "Epoch 26/50\n",
            "27/27 [==============================] - 1s 39ms/step - loss: 76.4034\n",
            "Epoch 27/50\n",
            "27/27 [==============================] - 1s 38ms/step - loss: 76.4958\n",
            "Epoch 28/50\n",
            "27/27 [==============================] - 1s 38ms/step - loss: 75.1923\n",
            "Epoch 29/50\n",
            "27/27 [==============================] - 1s 37ms/step - loss: 74.7513\n",
            "Epoch 30/50\n",
            "27/27 [==============================] - 1s 41ms/step - loss: 76.5841\n",
            "Epoch 31/50\n",
            "27/27 [==============================] - 1s 41ms/step - loss: 74.8105\n",
            "Epoch 32/50\n",
            "27/27 [==============================] - 1s 39ms/step - loss: 75.0770\n",
            "Epoch 33/50\n",
            "27/27 [==============================] - 1s 38ms/step - loss: 77.1259\n",
            "Epoch 34/50\n",
            "27/27 [==============================] - 1s 35ms/step - loss: 74.7496\n",
            "Epoch 35/50\n",
            "27/27 [==============================] - 1s 40ms/step - loss: 76.7029\n",
            "Epoch 36/50\n",
            "27/27 [==============================] - 1s 41ms/step - loss: 75.1078\n",
            "Epoch 37/50\n",
            "27/27 [==============================] - 1s 37ms/step - loss: 76.5849\n",
            "Epoch 38/50\n",
            "27/27 [==============================] - 1s 39ms/step - loss: 76.4135\n",
            "Epoch 39/50\n",
            "27/27 [==============================] - 1s 39ms/step - loss: 77.8750\n",
            "Epoch 40/50\n",
            "27/27 [==============================] - 1s 41ms/step - loss: 81.0265\n",
            "Epoch 41/50\n",
            "27/27 [==============================] - 1s 35ms/step - loss: 79.2385\n",
            "Epoch 42/50\n",
            "27/27 [==============================] - 1s 38ms/step - loss: 74.4780\n",
            "Epoch 43/50\n",
            "27/27 [==============================] - 1s 43ms/step - loss: 76.4504\n",
            "Epoch 44/50\n",
            "27/27 [==============================] - 2s 56ms/step - loss: 74.5865\n",
            "Epoch 45/50\n",
            "27/27 [==============================] - 1s 49ms/step - loss: 73.4773\n",
            "Epoch 46/50\n",
            "27/27 [==============================] - 1s 40ms/step - loss: 76.1816\n",
            "Epoch 47/50\n",
            "27/27 [==============================] - 1s 41ms/step - loss: 74.8068\n",
            "Epoch 48/50\n",
            "27/27 [==============================] - 1s 40ms/step - loss: 74.9614\n",
            "Epoch 49/50\n",
            "27/27 [==============================] - 1s 38ms/step - loss: 75.0708\n",
            "Epoch 50/50\n",
            "27/27 [==============================] - 1s 36ms/step - loss: 74.6413\n"
          ],
          "name": "stdout"
        },
        {
          "output_type": "error",
          "ename": "KeyboardInterrupt",
          "evalue": "ignored",
          "traceback": [
            "\u001b[0;31m---------------------------------------------------------------------------\u001b[0m",
            "\u001b[0;31mKeyboardInterrupt\u001b[0m                         Traceback (most recent call last)",
            "\u001b[0;32m<ipython-input-150-3c0a8156b700>\u001b[0m in \u001b[0;36m<module>\u001b[0;34m()\u001b[0m\n\u001b[1;32m     41\u001b[0m   \u001b[0mhistory\u001b[0m \u001b[0;34m=\u001b[0m \u001b[0mrnn\u001b[0m\u001b[0;34m.\u001b[0m\u001b[0mfit\u001b[0m\u001b[0;34m(\u001b[0m\u001b[0mtrain_dataset\u001b[0m\u001b[0;34m,\u001b[0m \u001b[0mepochs\u001b[0m\u001b[0;34m=\u001b[0m\u001b[0;36m50\u001b[0m\u001b[0;34m)\u001b[0m\u001b[0;34m\u001b[0m\u001b[0;34m\u001b[0m\u001b[0m\n\u001b[1;32m     42\u001b[0m \u001b[0;34m\u001b[0m\u001b[0m\n\u001b[0;32m---> 43\u001b[0;31m   \u001b[0mmake_prediction\u001b[0m\u001b[0;34m(\u001b[0m\u001b[0mrnn\u001b[0m\u001b[0;34m,\u001b[0m \u001b[0mdata_for_time_series\u001b[0m\u001b[0;34m,\u001b[0m \u001b[0;36m40\u001b[0m\u001b[0;34m,\u001b[0m \u001b[0mtest_index\u001b[0m\u001b[0;34m,\u001b[0m \u001b[0mx_test\u001b[0m\u001b[0;34m)\u001b[0m\u001b[0;34m\u001b[0m\u001b[0;34m\u001b[0m\u001b[0m\n\u001b[0m",
            "\u001b[0;32m<ipython-input-139-12c2fb6500f9>\u001b[0m in \u001b[0;36mmake_prediction\u001b[0;34m(model, data_for_time_series, window_size, test_index, x_test)\u001b[0m\n\u001b[1;32m      4\u001b[0m \u001b[0;34m\u001b[0m\u001b[0m\n\u001b[1;32m      5\u001b[0m     \u001b[0;32mfor\u001b[0m \u001b[0mtime\u001b[0m \u001b[0;32min\u001b[0m \u001b[0mrange\u001b[0m\u001b[0;34m(\u001b[0m\u001b[0mlen\u001b[0m\u001b[0;34m(\u001b[0m\u001b[0mdata_for_time_series\u001b[0m\u001b[0;34m)\u001b[0m \u001b[0;34m-\u001b[0m \u001b[0mwindow_size\u001b[0m\u001b[0;34m)\u001b[0m\u001b[0;34m:\u001b[0m\u001b[0;34m\u001b[0m\u001b[0;34m\u001b[0m\u001b[0m\n\u001b[0;32m----> 6\u001b[0;31m         \u001b[0mforecast\u001b[0m\u001b[0;34m.\u001b[0m\u001b[0mappend\u001b[0m\u001b[0;34m(\u001b[0m\u001b[0mmodel\u001b[0m\u001b[0;34m.\u001b[0m\u001b[0mpredict\u001b[0m\u001b[0;34m(\u001b[0m\u001b[0mdata_for_time_series\u001b[0m\u001b[0;34m[\u001b[0m\u001b[0mtime\u001b[0m\u001b[0;34m:\u001b[0m\u001b[0mtime\u001b[0m \u001b[0;34m+\u001b[0m \u001b[0mwindow_size\u001b[0m\u001b[0;34m]\u001b[0m\u001b[0;34m.\u001b[0m\u001b[0mT\u001b[0m\u001b[0;34m)\u001b[0m\u001b[0;34m)\u001b[0m\u001b[0;34m\u001b[0m\u001b[0;34m\u001b[0m\u001b[0m\n\u001b[0m\u001b[1;32m      7\u001b[0m \u001b[0;34m\u001b[0m\u001b[0m\n\u001b[1;32m      8\u001b[0m \u001b[0;34m\u001b[0m\u001b[0m\n",
            "\u001b[0;32m/usr/local/lib/python3.6/dist-packages/tensorflow/python/keras/engine/training.py\u001b[0m in \u001b[0;36m_method_wrapper\u001b[0;34m(self, *args, **kwargs)\u001b[0m\n\u001b[1;32m     85\u001b[0m       raise ValueError('{} is not supported in multi-worker mode.'.format(\n\u001b[1;32m     86\u001b[0m           method.__name__))\n\u001b[0;32m---> 87\u001b[0;31m     \u001b[0;32mreturn\u001b[0m \u001b[0mmethod\u001b[0m\u001b[0;34m(\u001b[0m\u001b[0mself\u001b[0m\u001b[0;34m,\u001b[0m \u001b[0;34m*\u001b[0m\u001b[0margs\u001b[0m\u001b[0;34m,\u001b[0m \u001b[0;34m**\u001b[0m\u001b[0mkwargs\u001b[0m\u001b[0;34m)\u001b[0m\u001b[0;34m\u001b[0m\u001b[0;34m\u001b[0m\u001b[0m\n\u001b[0m\u001b[1;32m     88\u001b[0m \u001b[0;34m\u001b[0m\u001b[0m\n\u001b[1;32m     89\u001b[0m   return tf_decorator.make_decorator(\n",
            "\u001b[0;32m/usr/local/lib/python3.6/dist-packages/tensorflow/python/keras/engine/training.py\u001b[0m in \u001b[0;36mpredict\u001b[0;34m(self, x, batch_size, verbose, steps, callbacks, max_queue_size, workers, use_multiprocessing)\u001b[0m\n\u001b[1;32m   1182\u001b[0m           \u001b[0mworkers\u001b[0m\u001b[0;34m=\u001b[0m\u001b[0mworkers\u001b[0m\u001b[0;34m,\u001b[0m\u001b[0;34m\u001b[0m\u001b[0;34m\u001b[0m\u001b[0m\n\u001b[1;32m   1183\u001b[0m           \u001b[0muse_multiprocessing\u001b[0m\u001b[0;34m=\u001b[0m\u001b[0muse_multiprocessing\u001b[0m\u001b[0;34m,\u001b[0m\u001b[0;34m\u001b[0m\u001b[0;34m\u001b[0m\u001b[0m\n\u001b[0;32m-> 1184\u001b[0;31m           model=self)\n\u001b[0m\u001b[1;32m   1185\u001b[0m \u001b[0;34m\u001b[0m\u001b[0m\n\u001b[1;32m   1186\u001b[0m       \u001b[0;31m# Container that configures and calls `tf.keras.Callback`s.\u001b[0m\u001b[0;34m\u001b[0m\u001b[0;34m\u001b[0m\u001b[0;34m\u001b[0m\u001b[0m\n",
            "\u001b[0;32m/usr/local/lib/python3.6/dist-packages/tensorflow/python/keras/engine/data_adapter.py\u001b[0m in \u001b[0;36m__init__\u001b[0;34m(self, x, y, sample_weight, batch_size, steps_per_epoch, initial_epoch, epochs, shuffle, class_weight, max_queue_size, workers, use_multiprocessing, model)\u001b[0m\n\u001b[1;32m   1107\u001b[0m         \u001b[0muse_multiprocessing\u001b[0m\u001b[0;34m=\u001b[0m\u001b[0muse_multiprocessing\u001b[0m\u001b[0;34m,\u001b[0m\u001b[0;34m\u001b[0m\u001b[0;34m\u001b[0m\u001b[0m\n\u001b[1;32m   1108\u001b[0m         \u001b[0mdistribution_strategy\u001b[0m\u001b[0;34m=\u001b[0m\u001b[0mds_context\u001b[0m\u001b[0;34m.\u001b[0m\u001b[0mget_strategy\u001b[0m\u001b[0;34m(\u001b[0m\u001b[0;34m)\u001b[0m\u001b[0;34m,\u001b[0m\u001b[0;34m\u001b[0m\u001b[0;34m\u001b[0m\u001b[0m\n\u001b[0;32m-> 1109\u001b[0;31m         model=model)\n\u001b[0m\u001b[1;32m   1110\u001b[0m \u001b[0;34m\u001b[0m\u001b[0m\n\u001b[1;32m   1111\u001b[0m     \u001b[0mstrategy\u001b[0m \u001b[0;34m=\u001b[0m \u001b[0mds_context\u001b[0m\u001b[0;34m.\u001b[0m\u001b[0mget_strategy\u001b[0m\u001b[0;34m(\u001b[0m\u001b[0;34m)\u001b[0m\u001b[0;34m\u001b[0m\u001b[0;34m\u001b[0m\u001b[0m\n",
            "\u001b[0;32m/usr/local/lib/python3.6/dist-packages/tensorflow/python/keras/engine/data_adapter.py\u001b[0m in \u001b[0;36m__init__\u001b[0;34m(self, x, y, sample_weights, sample_weight_modes, batch_size, epochs, steps, shuffle, **kwargs)\u001b[0m\n\u001b[1;32m    362\u001b[0m     \u001b[0mindices_dataset\u001b[0m \u001b[0;34m=\u001b[0m \u001b[0mindices_dataset\u001b[0m\u001b[0;34m.\u001b[0m\u001b[0mflat_map\u001b[0m\u001b[0;34m(\u001b[0m\u001b[0mslice_batch_indices\u001b[0m\u001b[0;34m)\u001b[0m\u001b[0;34m\u001b[0m\u001b[0;34m\u001b[0m\u001b[0m\n\u001b[1;32m    363\u001b[0m \u001b[0;34m\u001b[0m\u001b[0m\n\u001b[0;32m--> 364\u001b[0;31m     \u001b[0mdataset\u001b[0m \u001b[0;34m=\u001b[0m \u001b[0mself\u001b[0m\u001b[0;34m.\u001b[0m\u001b[0mslice_inputs\u001b[0m\u001b[0;34m(\u001b[0m\u001b[0mindices_dataset\u001b[0m\u001b[0;34m,\u001b[0m \u001b[0minputs\u001b[0m\u001b[0;34m)\u001b[0m\u001b[0;34m\u001b[0m\u001b[0;34m\u001b[0m\u001b[0m\n\u001b[0m\u001b[1;32m    365\u001b[0m \u001b[0;34m\u001b[0m\u001b[0m\n\u001b[1;32m    366\u001b[0m     \u001b[0;32mif\u001b[0m \u001b[0mshuffle\u001b[0m \u001b[0;34m==\u001b[0m \u001b[0;34m\"batch\"\u001b[0m\u001b[0;34m:\u001b[0m\u001b[0;34m\u001b[0m\u001b[0;34m\u001b[0m\u001b[0m\n",
            "\u001b[0;32m/usr/local/lib/python3.6/dist-packages/tensorflow/python/keras/engine/data_adapter.py\u001b[0m in \u001b[0;36mslice_inputs\u001b[0;34m(self, indices_dataset, inputs)\u001b[0m\n\u001b[1;32m    388\u001b[0m     dataset = dataset_ops.DatasetV2.zip((\n\u001b[1;32m    389\u001b[0m         \u001b[0mindices_dataset\u001b[0m\u001b[0;34m,\u001b[0m\u001b[0;34m\u001b[0m\u001b[0;34m\u001b[0m\u001b[0m\n\u001b[0;32m--> 390\u001b[0;31m         \u001b[0mdataset_ops\u001b[0m\u001b[0;34m.\u001b[0m\u001b[0mDatasetV2\u001b[0m\u001b[0;34m.\u001b[0m\u001b[0mfrom_tensors\u001b[0m\u001b[0;34m(\u001b[0m\u001b[0minputs\u001b[0m\u001b[0;34m)\u001b[0m\u001b[0;34m.\u001b[0m\u001b[0mrepeat\u001b[0m\u001b[0;34m(\u001b[0m\u001b[0;34m)\u001b[0m\u001b[0;34m\u001b[0m\u001b[0;34m\u001b[0m\u001b[0m\n\u001b[0m\u001b[1;32m    391\u001b[0m     ))\n\u001b[1;32m    392\u001b[0m \u001b[0;34m\u001b[0m\u001b[0m\n",
            "\u001b[0;32m/usr/local/lib/python3.6/dist-packages/tensorflow/python/data/ops/dataset_ops.py\u001b[0m in \u001b[0;36mfrom_tensors\u001b[0;34m(tensors)\u001b[0m\n\u001b[1;32m    560\u001b[0m       \u001b[0mDataset\u001b[0m\u001b[0;34m:\u001b[0m \u001b[0mA\u001b[0m\u001b[0;31m \u001b[0m\u001b[0;31m`\u001b[0m\u001b[0mDataset\u001b[0m\u001b[0;31m`\u001b[0m\u001b[0;34m.\u001b[0m\u001b[0;34m\u001b[0m\u001b[0;34m\u001b[0m\u001b[0m\n\u001b[1;32m    561\u001b[0m     \"\"\"\n\u001b[0;32m--> 562\u001b[0;31m     \u001b[0;32mreturn\u001b[0m \u001b[0mTensorDataset\u001b[0m\u001b[0;34m(\u001b[0m\u001b[0mtensors\u001b[0m\u001b[0;34m)\u001b[0m\u001b[0;34m\u001b[0m\u001b[0;34m\u001b[0m\u001b[0m\n\u001b[0m\u001b[1;32m    563\u001b[0m \u001b[0;34m\u001b[0m\u001b[0m\n\u001b[1;32m    564\u001b[0m   \u001b[0;34m@\u001b[0m\u001b[0mstaticmethod\u001b[0m\u001b[0;34m\u001b[0m\u001b[0;34m\u001b[0m\u001b[0m\n",
            "\u001b[0;32m/usr/local/lib/python3.6/dist-packages/tensorflow/python/data/ops/dataset_ops.py\u001b[0m in \u001b[0;36m__init__\u001b[0;34m(self, element)\u001b[0m\n\u001b[1;32m   2837\u001b[0m   \u001b[0;32mdef\u001b[0m \u001b[0m__init__\u001b[0m\u001b[0;34m(\u001b[0m\u001b[0mself\u001b[0m\u001b[0;34m,\u001b[0m \u001b[0melement\u001b[0m\u001b[0;34m)\u001b[0m\u001b[0;34m:\u001b[0m\u001b[0;34m\u001b[0m\u001b[0;34m\u001b[0m\u001b[0m\n\u001b[1;32m   2838\u001b[0m     \u001b[0;34m\"\"\"See `Dataset.from_tensors()` for details.\"\"\"\u001b[0m\u001b[0;34m\u001b[0m\u001b[0;34m\u001b[0m\u001b[0m\n\u001b[0;32m-> 2839\u001b[0;31m     \u001b[0melement\u001b[0m \u001b[0;34m=\u001b[0m \u001b[0mstructure\u001b[0m\u001b[0;34m.\u001b[0m\u001b[0mnormalize_element\u001b[0m\u001b[0;34m(\u001b[0m\u001b[0melement\u001b[0m\u001b[0;34m)\u001b[0m\u001b[0;34m\u001b[0m\u001b[0;34m\u001b[0m\u001b[0m\n\u001b[0m\u001b[1;32m   2840\u001b[0m     \u001b[0mself\u001b[0m\u001b[0;34m.\u001b[0m\u001b[0m_structure\u001b[0m \u001b[0;34m=\u001b[0m \u001b[0mstructure\u001b[0m\u001b[0;34m.\u001b[0m\u001b[0mtype_spec_from_value\u001b[0m\u001b[0;34m(\u001b[0m\u001b[0melement\u001b[0m\u001b[0;34m)\u001b[0m\u001b[0;34m\u001b[0m\u001b[0;34m\u001b[0m\u001b[0m\n\u001b[1;32m   2841\u001b[0m     \u001b[0mself\u001b[0m\u001b[0;34m.\u001b[0m\u001b[0m_tensors\u001b[0m \u001b[0;34m=\u001b[0m \u001b[0mstructure\u001b[0m\u001b[0;34m.\u001b[0m\u001b[0mto_tensor_list\u001b[0m\u001b[0;34m(\u001b[0m\u001b[0mself\u001b[0m\u001b[0;34m.\u001b[0m\u001b[0m_structure\u001b[0m\u001b[0;34m,\u001b[0m \u001b[0melement\u001b[0m\u001b[0;34m)\u001b[0m\u001b[0;34m\u001b[0m\u001b[0;34m\u001b[0m\u001b[0m\n",
            "\u001b[0;32m/usr/local/lib/python3.6/dist-packages/tensorflow/python/data/util/structure.py\u001b[0m in \u001b[0;36mnormalize_element\u001b[0;34m(element)\u001b[0m\n\u001b[1;32m     91\u001b[0m     \u001b[0;32mfor\u001b[0m \u001b[0mi\u001b[0m\u001b[0;34m,\u001b[0m \u001b[0mt\u001b[0m \u001b[0;32min\u001b[0m \u001b[0menumerate\u001b[0m\u001b[0;34m(\u001b[0m\u001b[0mcomponents\u001b[0m\u001b[0;34m)\u001b[0m\u001b[0;34m:\u001b[0m\u001b[0;34m\u001b[0m\u001b[0;34m\u001b[0m\u001b[0m\n\u001b[1;32m     92\u001b[0m       \u001b[0;32mtry\u001b[0m\u001b[0;34m:\u001b[0m\u001b[0;34m\u001b[0m\u001b[0;34m\u001b[0m\u001b[0m\n\u001b[0;32m---> 93\u001b[0;31m         \u001b[0mspec\u001b[0m \u001b[0;34m=\u001b[0m \u001b[0mtype_spec_from_value\u001b[0m\u001b[0;34m(\u001b[0m\u001b[0mt\u001b[0m\u001b[0;34m,\u001b[0m \u001b[0muse_fallback\u001b[0m\u001b[0;34m=\u001b[0m\u001b[0;32mFalse\u001b[0m\u001b[0;34m)\u001b[0m\u001b[0;34m\u001b[0m\u001b[0;34m\u001b[0m\u001b[0m\n\u001b[0m\u001b[1;32m     94\u001b[0m       \u001b[0;32mexcept\u001b[0m \u001b[0mTypeError\u001b[0m\u001b[0;34m:\u001b[0m\u001b[0;34m\u001b[0m\u001b[0;34m\u001b[0m\u001b[0m\n\u001b[1;32m     95\u001b[0m         \u001b[0;31m# TypeError indicates it was not possible to compute a `TypeSpec` for\u001b[0m\u001b[0;34m\u001b[0m\u001b[0;34m\u001b[0m\u001b[0;34m\u001b[0m\u001b[0m\n",
            "\u001b[0;32m/usr/local/lib/python3.6/dist-packages/tensorflow/python/data/util/structure.py\u001b[0m in \u001b[0;36mtype_spec_from_value\u001b[0;34m(element, use_fallback)\u001b[0m\n\u001b[1;32m    464\u001b[0m \u001b[0;34m\u001b[0m\u001b[0m\n\u001b[1;32m    465\u001b[0m   raise TypeError(\"Could not build a TypeSpec for %r with type %s\" %\n\u001b[0;32m--> 466\u001b[0;31m                   (element, type(element).__name__))\n\u001b[0m\u001b[1;32m    467\u001b[0m \u001b[0;34m\u001b[0m\u001b[0m\n\u001b[1;32m    468\u001b[0m \u001b[0;34m\u001b[0m\u001b[0m\n",
            "\u001b[0;32m/usr/local/lib/python3.6/dist-packages/pandas/core/frame.py\u001b[0m in \u001b[0;36m__repr__\u001b[0;34m(self)\u001b[0m\n\u001b[1;32m    653\u001b[0m             \u001b[0mmax_cols\u001b[0m\u001b[0;34m=\u001b[0m\u001b[0mmax_cols\u001b[0m\u001b[0;34m,\u001b[0m\u001b[0;34m\u001b[0m\u001b[0;34m\u001b[0m\u001b[0m\n\u001b[1;32m    654\u001b[0m             \u001b[0mline_width\u001b[0m\u001b[0;34m=\u001b[0m\u001b[0mwidth\u001b[0m\u001b[0;34m,\u001b[0m\u001b[0;34m\u001b[0m\u001b[0;34m\u001b[0m\u001b[0m\n\u001b[0;32m--> 655\u001b[0;31m             \u001b[0mshow_dimensions\u001b[0m\u001b[0;34m=\u001b[0m\u001b[0mshow_dimensions\u001b[0m\u001b[0;34m,\u001b[0m\u001b[0;34m\u001b[0m\u001b[0;34m\u001b[0m\u001b[0m\n\u001b[0m\u001b[1;32m    656\u001b[0m         )\n\u001b[1;32m    657\u001b[0m \u001b[0;34m\u001b[0m\u001b[0m\n",
            "\u001b[0;32m/usr/local/lib/python3.6/dist-packages/pandas/core/frame.py\u001b[0m in \u001b[0;36mto_string\u001b[0;34m(self, buf, columns, col_space, header, index, na_rep, formatters, float_format, sparsify, index_names, justify, max_rows, min_rows, max_cols, show_dimensions, decimal, line_width)\u001b[0m\n\u001b[1;32m    774\u001b[0m             \u001b[0mline_width\u001b[0m\u001b[0;34m=\u001b[0m\u001b[0mline_width\u001b[0m\u001b[0;34m,\u001b[0m\u001b[0;34m\u001b[0m\u001b[0;34m\u001b[0m\u001b[0m\n\u001b[1;32m    775\u001b[0m         )\n\u001b[0;32m--> 776\u001b[0;31m         \u001b[0mformatter\u001b[0m\u001b[0;34m.\u001b[0m\u001b[0mto_string\u001b[0m\u001b[0;34m(\u001b[0m\u001b[0;34m)\u001b[0m\u001b[0;34m\u001b[0m\u001b[0;34m\u001b[0m\u001b[0m\n\u001b[0m\u001b[1;32m    777\u001b[0m \u001b[0;34m\u001b[0m\u001b[0m\n\u001b[1;32m    778\u001b[0m         \u001b[0;32mif\u001b[0m \u001b[0mbuf\u001b[0m \u001b[0;32mis\u001b[0m \u001b[0;32mNone\u001b[0m\u001b[0;34m:\u001b[0m\u001b[0;34m\u001b[0m\u001b[0;34m\u001b[0m\u001b[0m\n",
            "\u001b[0;32m/usr/local/lib/python3.6/dist-packages/pandas/io/formats/format.py\u001b[0m in \u001b[0;36mto_string\u001b[0;34m(self)\u001b[0m\n\u001b[1;32m    701\u001b[0m                 \u001b[0;31m# '+ 1' to avoid too wide repr (GH PR #17023)\u001b[0m\u001b[0;34m\u001b[0m\u001b[0;34m\u001b[0m\u001b[0;34m\u001b[0m\u001b[0m\n\u001b[1;32m    702\u001b[0m                 \u001b[0madj_dif\u001b[0m \u001b[0;34m=\u001b[0m \u001b[0mdif\u001b[0m \u001b[0;34m+\u001b[0m \u001b[0;36m1\u001b[0m\u001b[0;34m\u001b[0m\u001b[0;34m\u001b[0m\u001b[0m\n\u001b[0;32m--> 703\u001b[0;31m                 \u001b[0mcol_lens\u001b[0m \u001b[0;34m=\u001b[0m \u001b[0mSeries\u001b[0m\u001b[0;34m(\u001b[0m\u001b[0;34m[\u001b[0m\u001b[0mSeries\u001b[0m\u001b[0;34m(\u001b[0m\u001b[0mele\u001b[0m\u001b[0;34m)\u001b[0m\u001b[0;34m.\u001b[0m\u001b[0mapply\u001b[0m\u001b[0;34m(\u001b[0m\u001b[0mlen\u001b[0m\u001b[0;34m)\u001b[0m\u001b[0;34m.\u001b[0m\u001b[0mmax\u001b[0m\u001b[0;34m(\u001b[0m\u001b[0;34m)\u001b[0m \u001b[0;32mfor\u001b[0m \u001b[0mele\u001b[0m \u001b[0;32min\u001b[0m \u001b[0mstrcols\u001b[0m\u001b[0;34m]\u001b[0m\u001b[0;34m)\u001b[0m\u001b[0;34m\u001b[0m\u001b[0;34m\u001b[0m\u001b[0m\n\u001b[0m\u001b[1;32m    704\u001b[0m                 \u001b[0mn_cols\u001b[0m \u001b[0;34m=\u001b[0m \u001b[0mlen\u001b[0m\u001b[0;34m(\u001b[0m\u001b[0mcol_lens\u001b[0m\u001b[0;34m)\u001b[0m\u001b[0;34m\u001b[0m\u001b[0;34m\u001b[0m\u001b[0m\n\u001b[1;32m    705\u001b[0m                 \u001b[0mcounter\u001b[0m \u001b[0;34m=\u001b[0m \u001b[0;36m0\u001b[0m\u001b[0;34m\u001b[0m\u001b[0;34m\u001b[0m\u001b[0m\n",
            "\u001b[0;32m/usr/local/lib/python3.6/dist-packages/pandas/io/formats/format.py\u001b[0m in \u001b[0;36m<listcomp>\u001b[0;34m(.0)\u001b[0m\n\u001b[1;32m    701\u001b[0m                 \u001b[0;31m# '+ 1' to avoid too wide repr (GH PR #17023)\u001b[0m\u001b[0;34m\u001b[0m\u001b[0;34m\u001b[0m\u001b[0;34m\u001b[0m\u001b[0m\n\u001b[1;32m    702\u001b[0m                 \u001b[0madj_dif\u001b[0m \u001b[0;34m=\u001b[0m \u001b[0mdif\u001b[0m \u001b[0;34m+\u001b[0m \u001b[0;36m1\u001b[0m\u001b[0;34m\u001b[0m\u001b[0;34m\u001b[0m\u001b[0m\n\u001b[0;32m--> 703\u001b[0;31m                 \u001b[0mcol_lens\u001b[0m \u001b[0;34m=\u001b[0m \u001b[0mSeries\u001b[0m\u001b[0;34m(\u001b[0m\u001b[0;34m[\u001b[0m\u001b[0mSeries\u001b[0m\u001b[0;34m(\u001b[0m\u001b[0mele\u001b[0m\u001b[0;34m)\u001b[0m\u001b[0;34m.\u001b[0m\u001b[0mapply\u001b[0m\u001b[0;34m(\u001b[0m\u001b[0mlen\u001b[0m\u001b[0;34m)\u001b[0m\u001b[0;34m.\u001b[0m\u001b[0mmax\u001b[0m\u001b[0;34m(\u001b[0m\u001b[0;34m)\u001b[0m \u001b[0;32mfor\u001b[0m \u001b[0mele\u001b[0m \u001b[0;32min\u001b[0m \u001b[0mstrcols\u001b[0m\u001b[0;34m]\u001b[0m\u001b[0;34m)\u001b[0m\u001b[0;34m\u001b[0m\u001b[0;34m\u001b[0m\u001b[0m\n\u001b[0m\u001b[1;32m    704\u001b[0m                 \u001b[0mn_cols\u001b[0m \u001b[0;34m=\u001b[0m \u001b[0mlen\u001b[0m\u001b[0;34m(\u001b[0m\u001b[0mcol_lens\u001b[0m\u001b[0;34m)\u001b[0m\u001b[0;34m\u001b[0m\u001b[0;34m\u001b[0m\u001b[0m\n\u001b[1;32m    705\u001b[0m                 \u001b[0mcounter\u001b[0m \u001b[0;34m=\u001b[0m \u001b[0;36m0\u001b[0m\u001b[0;34m\u001b[0m\u001b[0;34m\u001b[0m\u001b[0m\n",
            "\u001b[0;32m/usr/local/lib/python3.6/dist-packages/pandas/core/series.py\u001b[0m in \u001b[0;36m__init__\u001b[0;34m(self, data, index, dtype, name, copy, fastpath)\u001b[0m\n\u001b[1;32m    314\u001b[0m                 \u001b[0mdata\u001b[0m \u001b[0;34m=\u001b[0m \u001b[0msanitize_array\u001b[0m\u001b[0;34m(\u001b[0m\u001b[0mdata\u001b[0m\u001b[0;34m,\u001b[0m \u001b[0mindex\u001b[0m\u001b[0;34m,\u001b[0m \u001b[0mdtype\u001b[0m\u001b[0;34m,\u001b[0m \u001b[0mcopy\u001b[0m\u001b[0;34m,\u001b[0m \u001b[0mraise_cast_failure\u001b[0m\u001b[0;34m=\u001b[0m\u001b[0;32mTrue\u001b[0m\u001b[0;34m)\u001b[0m\u001b[0;34m\u001b[0m\u001b[0;34m\u001b[0m\u001b[0m\n\u001b[1;32m    315\u001b[0m \u001b[0;34m\u001b[0m\u001b[0m\n\u001b[0;32m--> 316\u001b[0;31m                 \u001b[0mdata\u001b[0m \u001b[0;34m=\u001b[0m \u001b[0mSingleBlockManager\u001b[0m\u001b[0;34m(\u001b[0m\u001b[0mdata\u001b[0m\u001b[0;34m,\u001b[0m \u001b[0mindex\u001b[0m\u001b[0;34m,\u001b[0m \u001b[0mfastpath\u001b[0m\u001b[0;34m=\u001b[0m\u001b[0;32mTrue\u001b[0m\u001b[0;34m)\u001b[0m\u001b[0;34m\u001b[0m\u001b[0;34m\u001b[0m\u001b[0m\n\u001b[0m\u001b[1;32m    317\u001b[0m \u001b[0;34m\u001b[0m\u001b[0m\n\u001b[1;32m    318\u001b[0m         \u001b[0mgeneric\u001b[0m\u001b[0;34m.\u001b[0m\u001b[0mNDFrame\u001b[0m\u001b[0;34m.\u001b[0m\u001b[0m__init__\u001b[0m\u001b[0;34m(\u001b[0m\u001b[0mself\u001b[0m\u001b[0;34m,\u001b[0m \u001b[0mdata\u001b[0m\u001b[0;34m,\u001b[0m \u001b[0mfastpath\u001b[0m\u001b[0;34m=\u001b[0m\u001b[0;32mTrue\u001b[0m\u001b[0;34m)\u001b[0m\u001b[0;34m\u001b[0m\u001b[0;34m\u001b[0m\u001b[0m\n",
            "\u001b[0;32m/usr/local/lib/python3.6/dist-packages/pandas/core/internals/managers.py\u001b[0m in \u001b[0;36m__init__\u001b[0;34m(self, block, axis, do_integrity_check, fastpath)\u001b[0m\n\u001b[1;32m   1514\u001b[0m \u001b[0;34m\u001b[0m\u001b[0m\n\u001b[1;32m   1515\u001b[0m         \u001b[0;32mif\u001b[0m \u001b[0;32mnot\u001b[0m \u001b[0misinstance\u001b[0m\u001b[0;34m(\u001b[0m\u001b[0mblock\u001b[0m\u001b[0;34m,\u001b[0m \u001b[0mBlock\u001b[0m\u001b[0;34m)\u001b[0m\u001b[0;34m:\u001b[0m\u001b[0;34m\u001b[0m\u001b[0;34m\u001b[0m\u001b[0m\n\u001b[0;32m-> 1516\u001b[0;31m             \u001b[0mblock\u001b[0m \u001b[0;34m=\u001b[0m \u001b[0mmake_block\u001b[0m\u001b[0;34m(\u001b[0m\u001b[0mblock\u001b[0m\u001b[0;34m,\u001b[0m \u001b[0mplacement\u001b[0m\u001b[0;34m=\u001b[0m\u001b[0mslice\u001b[0m\u001b[0;34m(\u001b[0m\u001b[0;36m0\u001b[0m\u001b[0;34m,\u001b[0m \u001b[0mlen\u001b[0m\u001b[0;34m(\u001b[0m\u001b[0maxis\u001b[0m\u001b[0;34m)\u001b[0m\u001b[0;34m)\u001b[0m\u001b[0;34m,\u001b[0m \u001b[0mndim\u001b[0m\u001b[0;34m=\u001b[0m\u001b[0;36m1\u001b[0m\u001b[0;34m)\u001b[0m\u001b[0;34m\u001b[0m\u001b[0;34m\u001b[0m\u001b[0m\n\u001b[0m\u001b[1;32m   1517\u001b[0m \u001b[0;34m\u001b[0m\u001b[0m\n\u001b[1;32m   1518\u001b[0m         \u001b[0mself\u001b[0m\u001b[0;34m.\u001b[0m\u001b[0mblocks\u001b[0m \u001b[0;34m=\u001b[0m \u001b[0mtuple\u001b[0m\u001b[0;34m(\u001b[0m\u001b[0;34m[\u001b[0m\u001b[0mblock\u001b[0m\u001b[0;34m]\u001b[0m\u001b[0;34m)\u001b[0m\u001b[0;34m\u001b[0m\u001b[0;34m\u001b[0m\u001b[0m\n",
            "\u001b[0;32m/usr/local/lib/python3.6/dist-packages/pandas/core/internals/blocks.py\u001b[0m in \u001b[0;36mmake_block\u001b[0;34m(values, placement, klass, ndim, dtype, fastpath)\u001b[0m\n\u001b[1;32m   3275\u001b[0m     \u001b[0;32mif\u001b[0m \u001b[0mklass\u001b[0m \u001b[0;32mis\u001b[0m \u001b[0;32mNone\u001b[0m\u001b[0;34m:\u001b[0m\u001b[0;34m\u001b[0m\u001b[0;34m\u001b[0m\u001b[0m\n\u001b[1;32m   3276\u001b[0m         \u001b[0mdtype\u001b[0m \u001b[0;34m=\u001b[0m \u001b[0mdtype\u001b[0m \u001b[0;32mor\u001b[0m \u001b[0mvalues\u001b[0m\u001b[0;34m.\u001b[0m\u001b[0mdtype\u001b[0m\u001b[0;34m\u001b[0m\u001b[0;34m\u001b[0m\u001b[0m\n\u001b[0;32m-> 3277\u001b[0;31m         \u001b[0mklass\u001b[0m \u001b[0;34m=\u001b[0m \u001b[0mget_block_type\u001b[0m\u001b[0;34m(\u001b[0m\u001b[0mvalues\u001b[0m\u001b[0;34m,\u001b[0m \u001b[0mdtype\u001b[0m\u001b[0;34m)\u001b[0m\u001b[0;34m\u001b[0m\u001b[0;34m\u001b[0m\u001b[0m\n\u001b[0m\u001b[1;32m   3278\u001b[0m \u001b[0;34m\u001b[0m\u001b[0m\n\u001b[1;32m   3279\u001b[0m     \u001b[0;32melif\u001b[0m \u001b[0mklass\u001b[0m \u001b[0;32mis\u001b[0m \u001b[0mDatetimeTZBlock\u001b[0m \u001b[0;32mand\u001b[0m \u001b[0;32mnot\u001b[0m \u001b[0mis_datetime64tz_dtype\u001b[0m\u001b[0;34m(\u001b[0m\u001b[0mvalues\u001b[0m\u001b[0;34m)\u001b[0m\u001b[0;34m:\u001b[0m\u001b[0;34m\u001b[0m\u001b[0;34m\u001b[0m\u001b[0m\n",
            "\u001b[0;32m/usr/local/lib/python3.6/dist-packages/pandas/core/internals/blocks.py\u001b[0m in \u001b[0;36mget_block_type\u001b[0;34m(values, dtype)\u001b[0m\n\u001b[1;32m   3236\u001b[0m     \u001b[0;32melif\u001b[0m \u001b[0mis_datetime64tz_dtype\u001b[0m\u001b[0;34m(\u001b[0m\u001b[0mvalues\u001b[0m\u001b[0;34m)\u001b[0m\u001b[0;34m:\u001b[0m\u001b[0;34m\u001b[0m\u001b[0;34m\u001b[0m\u001b[0m\n\u001b[1;32m   3237\u001b[0m         \u001b[0mcls\u001b[0m \u001b[0;34m=\u001b[0m \u001b[0mDatetimeTZBlock\u001b[0m\u001b[0;34m\u001b[0m\u001b[0;34m\u001b[0m\u001b[0m\n\u001b[0;32m-> 3238\u001b[0;31m     \u001b[0;32melif\u001b[0m \u001b[0mis_interval_dtype\u001b[0m\u001b[0;34m(\u001b[0m\u001b[0mdtype\u001b[0m\u001b[0;34m)\u001b[0m \u001b[0;32mor\u001b[0m \u001b[0mis_period_dtype\u001b[0m\u001b[0;34m(\u001b[0m\u001b[0mdtype\u001b[0m\u001b[0;34m)\u001b[0m\u001b[0;34m:\u001b[0m\u001b[0;34m\u001b[0m\u001b[0;34m\u001b[0m\u001b[0m\n\u001b[0m\u001b[1;32m   3239\u001b[0m         \u001b[0mcls\u001b[0m \u001b[0;34m=\u001b[0m \u001b[0mObjectValuesExtensionBlock\u001b[0m\u001b[0;34m\u001b[0m\u001b[0;34m\u001b[0m\u001b[0m\n\u001b[1;32m   3240\u001b[0m     \u001b[0;32melif\u001b[0m \u001b[0mis_extension_array_dtype\u001b[0m\u001b[0;34m(\u001b[0m\u001b[0mvalues\u001b[0m\u001b[0;34m)\u001b[0m\u001b[0;34m:\u001b[0m\u001b[0;34m\u001b[0m\u001b[0;34m\u001b[0m\u001b[0m\n",
            "\u001b[0;32m/usr/local/lib/python3.6/dist-packages/pandas/core/dtypes/common.py\u001b[0m in \u001b[0;36mis_period_dtype\u001b[0;34m(arr_or_dtype)\u001b[0m\n\u001b[1;32m    637\u001b[0m     \u001b[0;32mif\u001b[0m \u001b[0marr_or_dtype\u001b[0m \u001b[0;32mis\u001b[0m \u001b[0;32mNone\u001b[0m\u001b[0;34m:\u001b[0m\u001b[0;34m\u001b[0m\u001b[0;34m\u001b[0m\u001b[0m\n\u001b[1;32m    638\u001b[0m         \u001b[0;32mreturn\u001b[0m \u001b[0;32mFalse\u001b[0m\u001b[0;34m\u001b[0m\u001b[0;34m\u001b[0m\u001b[0m\n\u001b[0;32m--> 639\u001b[0;31m     \u001b[0;32mreturn\u001b[0m \u001b[0mPeriodDtype\u001b[0m\u001b[0;34m.\u001b[0m\u001b[0mis_dtype\u001b[0m\u001b[0;34m(\u001b[0m\u001b[0marr_or_dtype\u001b[0m\u001b[0;34m)\u001b[0m\u001b[0;34m\u001b[0m\u001b[0;34m\u001b[0m\u001b[0m\n\u001b[0m\u001b[1;32m    640\u001b[0m \u001b[0;34m\u001b[0m\u001b[0m\n\u001b[1;32m    641\u001b[0m \u001b[0;34m\u001b[0m\u001b[0m\n",
            "\u001b[0;32m/usr/local/lib/python3.6/dist-packages/pandas/core/dtypes/dtypes.py\u001b[0m in \u001b[0;36mis_dtype\u001b[0;34m(cls, dtype)\u001b[0m\n\u001b[1;32m    930\u001b[0m             \u001b[0;32melse\u001b[0m\u001b[0;34m:\u001b[0m\u001b[0;34m\u001b[0m\u001b[0;34m\u001b[0m\u001b[0m\n\u001b[1;32m    931\u001b[0m                 \u001b[0;32mreturn\u001b[0m \u001b[0;32mFalse\u001b[0m\u001b[0;34m\u001b[0m\u001b[0;34m\u001b[0m\u001b[0m\n\u001b[0;32m--> 932\u001b[0;31m         \u001b[0;32mreturn\u001b[0m \u001b[0msuper\u001b[0m\u001b[0;34m(\u001b[0m\u001b[0;34m)\u001b[0m\u001b[0;34m.\u001b[0m\u001b[0mis_dtype\u001b[0m\u001b[0;34m(\u001b[0m\u001b[0mdtype\u001b[0m\u001b[0;34m)\u001b[0m\u001b[0;34m\u001b[0m\u001b[0;34m\u001b[0m\u001b[0m\n\u001b[0m\u001b[1;32m    933\u001b[0m \u001b[0;34m\u001b[0m\u001b[0m\n\u001b[1;32m    934\u001b[0m     \u001b[0;34m@\u001b[0m\u001b[0mclassmethod\u001b[0m\u001b[0;34m\u001b[0m\u001b[0;34m\u001b[0m\u001b[0m\n",
            "\u001b[0;32m/usr/local/lib/python3.6/dist-packages/pandas/core/dtypes/base.py\u001b[0m in \u001b[0;36mis_dtype\u001b[0;34m(cls, dtype)\u001b[0m\n\u001b[1;32m    254\u001b[0m         \u001b[0mdtype\u001b[0m \u001b[0;34m=\u001b[0m \u001b[0mgetattr\u001b[0m\u001b[0;34m(\u001b[0m\u001b[0mdtype\u001b[0m\u001b[0;34m,\u001b[0m \u001b[0;34m\"dtype\"\u001b[0m\u001b[0;34m,\u001b[0m \u001b[0mdtype\u001b[0m\u001b[0;34m)\u001b[0m\u001b[0;34m\u001b[0m\u001b[0;34m\u001b[0m\u001b[0m\n\u001b[1;32m    255\u001b[0m \u001b[0;34m\u001b[0m\u001b[0m\n\u001b[0;32m--> 256\u001b[0;31m         \u001b[0;32mif\u001b[0m \u001b[0misinstance\u001b[0m\u001b[0;34m(\u001b[0m\u001b[0mdtype\u001b[0m\u001b[0;34m,\u001b[0m \u001b[0;34m(\u001b[0m\u001b[0mABCSeries\u001b[0m\u001b[0;34m,\u001b[0m \u001b[0mABCIndexClass\u001b[0m\u001b[0;34m,\u001b[0m \u001b[0mABCDataFrame\u001b[0m\u001b[0;34m,\u001b[0m \u001b[0mnp\u001b[0m\u001b[0;34m.\u001b[0m\u001b[0mdtype\u001b[0m\u001b[0;34m)\u001b[0m\u001b[0;34m)\u001b[0m\u001b[0;34m:\u001b[0m\u001b[0;34m\u001b[0m\u001b[0;34m\u001b[0m\u001b[0m\n\u001b[0m\u001b[1;32m    257\u001b[0m             \u001b[0;31m# https://github.com/pandas-dev/pandas/issues/22960\u001b[0m\u001b[0;34m\u001b[0m\u001b[0;34m\u001b[0m\u001b[0;34m\u001b[0m\u001b[0m\n\u001b[1;32m    258\u001b[0m             \u001b[0;31m# avoid passing data to `construct_from_string`. This could\u001b[0m\u001b[0;34m\u001b[0m\u001b[0;34m\u001b[0m\u001b[0;34m\u001b[0m\u001b[0m\n",
            "\u001b[0;32m/usr/local/lib/python3.6/dist-packages/pandas/core/dtypes/generic.py\u001b[0m in \u001b[0;36m_check\u001b[0;34m(cls, inst)\u001b[0m\n\u001b[1;32m      7\u001b[0m     \u001b[0;34m@\u001b[0m\u001b[0mclassmethod\u001b[0m\u001b[0;34m\u001b[0m\u001b[0;34m\u001b[0m\u001b[0m\n\u001b[1;32m      8\u001b[0m     \u001b[0;32mdef\u001b[0m \u001b[0m_check\u001b[0m\u001b[0;34m(\u001b[0m\u001b[0mcls\u001b[0m\u001b[0;34m,\u001b[0m \u001b[0minst\u001b[0m\u001b[0;34m)\u001b[0m\u001b[0;34m:\u001b[0m\u001b[0;34m\u001b[0m\u001b[0;34m\u001b[0m\u001b[0m\n\u001b[0;32m----> 9\u001b[0;31m         \u001b[0;32mreturn\u001b[0m \u001b[0mgetattr\u001b[0m\u001b[0;34m(\u001b[0m\u001b[0minst\u001b[0m\u001b[0;34m,\u001b[0m \u001b[0mattr\u001b[0m\u001b[0;34m,\u001b[0m \u001b[0;34m\"_typ\"\u001b[0m\u001b[0;34m)\u001b[0m \u001b[0;32min\u001b[0m \u001b[0mcomp\u001b[0m\u001b[0;34m\u001b[0m\u001b[0;34m\u001b[0m\u001b[0m\n\u001b[0m\u001b[1;32m     10\u001b[0m \u001b[0;34m\u001b[0m\u001b[0m\n\u001b[1;32m     11\u001b[0m     \u001b[0mdct\u001b[0m \u001b[0;34m=\u001b[0m \u001b[0mdict\u001b[0m\u001b[0;34m(\u001b[0m\u001b[0m__instancecheck__\u001b[0m\u001b[0;34m=\u001b[0m\u001b[0m_check\u001b[0m\u001b[0;34m,\u001b[0m \u001b[0m__subclasscheck__\u001b[0m\u001b[0;34m=\u001b[0m\u001b[0m_check\u001b[0m\u001b[0;34m)\u001b[0m\u001b[0;34m\u001b[0m\u001b[0;34m\u001b[0m\u001b[0m\n",
            "\u001b[0;31mKeyboardInterrupt\u001b[0m: "
          ]
        }
      ]
    },
    {
      "cell_type": "code",
      "metadata": {
        "id": "KRyvN7-InOx_",
        "colab_type": "code",
        "colab": {}
      },
      "source": [
        ""
      ],
      "execution_count": 0,
      "outputs": []
    },
    {
      "cell_type": "code",
      "metadata": {
        "id": "ZjXWb0J6hRco",
        "colab_type": "code",
        "colab": {}
      },
      "source": [
        ""
      ],
      "execution_count": 0,
      "outputs": []
    }
  ]
}